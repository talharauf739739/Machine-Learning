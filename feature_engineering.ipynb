{
  "nbformat": 4,
  "nbformat_minor": 0,
  "metadata": {
    "jupytext": {
      "cell_metadata_filter": "-all",
      "formats": "ipynb"
    },
    "kernelspec": {
      "display_name": "Python 3",
      "language": "python",
      "name": "python3"
    },
    "language_info": {
      "codemirror_mode": {
        "name": "ipython",
        "version": 3
      },
      "file_extension": ".py",
      "mimetype": "text/x-python",
      "name": "python",
      "nbconvert_exporter": "python",
      "pygments_lexer": "ipython3",
      "version": "3.7.9"
    },
    "papermill": {
      "default_parameters": {},
      "duration": 34.132685,
      "end_time": "2021-03-05T15:10:42.127605",
      "environment_variables": {},
      "exception": null,
      "input_path": "__notebook__.ipynb",
      "output_path": "__notebook__.ipynb",
      "parameters": {},
      "start_time": "2021-03-05T15:10:07.994920",
      "version": "2.2.2"
    },
    "colab": {
      "name": "feature-engineering.ipynb",
      "provenance": []
    }
  },
  "cells": [
    {
      "cell_type": "markdown",
      "metadata": {
        "papermill": {
          "duration": 0.003499,
          "end_time": "2021-03-05T15:10:13.629603",
          "exception": false,
          "start_time": "2021-03-05T15:10:13.626104",
          "status": "completed"
        },
        "tags": [],
        "id": "4I1usOqLnLmV"
      },
      "source": [
        "# The Goal of Feature Engineering #\n",
        "\n",
        "The goal of feature engineering is simply to make your data better suited to the problem at hand.\n",
        "\n",
        "Consider \"apparent temperature\" measures like the heat index and the wind chill. These quantities attempt to measure the *perceived* temperature to humans based on air temperature, humidity, and wind speed, things which we can measure directly. You could think of an apparent temperature as the result of a kind of feature engineering, an attempt to make the observed data more relevant to what we actually care about: how it actually feels outside!\n",
        "\n",
        "You might perform feature engineering to:\n",
        "- improve a model's predictive performance\n",
        "- reduce computational or data needs\n",
        "- improve interpretability of the results\n",
        "\n",
        "# A Guiding Principle of Feature Engineering #\n",
        "\n",
        "For a feature to be useful, it must have a relationship to the target that your model is able to learn. Linear models, for instance, are only able to learn linear relationships. So, when using a linear model, your goal is to transform the features to make their relationship to the target linear.\n",
        "\n",
        "The key idea here is that a transformation you apply to a feature becomes in essence a part of the model itself. Say you were trying to predict the `Price` of square plots of land from the `Length` of one side. Fitting a linear model directly to `Length` gives poor results: the relationship is not linear.\n",
        "\n",
        "<figure style=\"padding: 1em;\">\n",
        "<img src=\"https://i.imgur.com/5D1z24N.png\" width=300, alt=\"A scatterplot of Length along the x-axis and Price along the y-axis, the points increasing in a curve, with a poorly-fitting line superimposed.\">\n",
        "<figcaption style=\"textalign: center; font-style: italic\"><center>A linear model fits poorly with only Length as feature.\n",
        "</center></figcaption>\n",
        "</figure>\n",
        "\n",
        "If we square the `Length` feature to get `'Area'`, however, we create a linear relationship. Adding `Area` to the feature set means this linear model can now fit a parabola. Squaring a feature, in other words, gave the linear model the ability to fit squared features.\n",
        "\n",
        "<figure style=\"padding: 1em;\">\n",
        "<img src=\"https://i.imgur.com/BLRsYOK.png\" width=600, alt=\"Left: Area now on the x-axis. The points increasing in a linear shape, with a well-fitting line superimposed. Right: Length on the x-axis now. The points increase in a curve as before, and a well-fitting curve is superimposed.\">\n",
        "<figcaption style=\"textalign: center; font-style: italic\"><center><strong>Left:</strong> The fit to Area is much better. <strong>Right:</strong> Which makes the fit to Length better as well.\n",
        "</center></figcaption>\n",
        "</figure>\n",
        "\n",
        "This should show you why there can be such a high return on time invested in feature engineering. Whatever relationships your model can't learn, you can provide yourself through transformations. As you develop your feature set, think about what information your model could use to achieve its best performance."
      ]
    },
    {
      "cell_type": "markdown",
      "metadata": {
        "papermill": {
          "duration": 0.003552,
          "end_time": "2021-03-05T15:10:13.636839",
          "exception": false,
          "start_time": "2021-03-05T15:10:13.633287",
          "status": "completed"
        },
        "tags": [],
        "id": "7PvF-FV0nLmZ"
      },
      "source": [
        "# Example - Concrete Formulations #\n",
        "\n",
        "To illustrate these ideas we'll see how adding a few synthetic features to a dataset can improve the predictive performance of a random forest model.\n",
        "\n",
        "The [*Concrete*](https://www.kaggle.com/sinamhd9/concrete-comprehensive-strength) dataset contains a variety of concrete formulations and the resulting product's *compressive strength*, which is a measure of how much load that kind of concrete can bear. The task for this dataset is to predict a concrete's compressive strength given its formulation.\n"
      ]
    },
    {
      "cell_type": "code",
      "metadata": {
        "execution": {
          "iopub.execute_input": "2021-03-05T15:10:13.649671Z",
          "iopub.status.busy": "2021-03-05T15:10:13.649030Z",
          "iopub.status.idle": "2021-03-05T15:10:15.004416Z",
          "shell.execute_reply": "2021-03-05T15:10:15.003599Z"
        },
        "papermill": {
          "duration": 1.364203,
          "end_time": "2021-03-05T15:10:15.004627",
          "exception": false,
          "start_time": "2021-03-05T15:10:13.640424",
          "status": "completed"
        },
        "tags": [],
        "id": "vGfmnzUPnLma",
        "outputId": "f8430edf-4bfd-42ab-d218-3ccc2456daca"
      },
      "source": [
        "import pandas as pd\n",
        "from sklearn.neighbors import KNeighborsClassifier\n",
        "\n",
        "df = pd.read_csv(\"........................./concrete.csv\")\n",
        "df.head()"
      ],
      "execution_count": null,
      "outputs": [
        {
          "output_type": "execute_result",
          "data": {
            "text/html": [
              "<div>\n",
              "<style scoped>\n",
              "    .dataframe tbody tr th:only-of-type {\n",
              "        vertical-align: middle;\n",
              "    }\n",
              "\n",
              "    .dataframe tbody tr th {\n",
              "        vertical-align: top;\n",
              "    }\n",
              "\n",
              "    .dataframe thead th {\n",
              "        text-align: right;\n",
              "    }\n",
              "</style>\n",
              "<table border=\"1\" class=\"dataframe\">\n",
              "  <thead>\n",
              "    <tr style=\"text-align: right;\">\n",
              "      <th></th>\n",
              "      <th>Cement</th>\n",
              "      <th>BlastFurnaceSlag</th>\n",
              "      <th>FlyAsh</th>\n",
              "      <th>Water</th>\n",
              "      <th>Superplasticizer</th>\n",
              "      <th>CoarseAggregate</th>\n",
              "      <th>FineAggregate</th>\n",
              "      <th>Age</th>\n",
              "      <th>CompressiveStrength</th>\n",
              "    </tr>\n",
              "  </thead>\n",
              "  <tbody>\n",
              "    <tr>\n",
              "      <th>0</th>\n",
              "      <td>540.0</td>\n",
              "      <td>0.0</td>\n",
              "      <td>0.0</td>\n",
              "      <td>162.0</td>\n",
              "      <td>2.5</td>\n",
              "      <td>1040.0</td>\n",
              "      <td>676.0</td>\n",
              "      <td>28</td>\n",
              "      <td>79.99</td>\n",
              "    </tr>\n",
              "    <tr>\n",
              "      <th>1</th>\n",
              "      <td>540.0</td>\n",
              "      <td>0.0</td>\n",
              "      <td>0.0</td>\n",
              "      <td>162.0</td>\n",
              "      <td>2.5</td>\n",
              "      <td>1055.0</td>\n",
              "      <td>676.0</td>\n",
              "      <td>28</td>\n",
              "      <td>61.89</td>\n",
              "    </tr>\n",
              "    <tr>\n",
              "      <th>2</th>\n",
              "      <td>332.5</td>\n",
              "      <td>142.5</td>\n",
              "      <td>0.0</td>\n",
              "      <td>228.0</td>\n",
              "      <td>0.0</td>\n",
              "      <td>932.0</td>\n",
              "      <td>594.0</td>\n",
              "      <td>270</td>\n",
              "      <td>40.27</td>\n",
              "    </tr>\n",
              "    <tr>\n",
              "      <th>3</th>\n",
              "      <td>332.5</td>\n",
              "      <td>142.5</td>\n",
              "      <td>0.0</td>\n",
              "      <td>228.0</td>\n",
              "      <td>0.0</td>\n",
              "      <td>932.0</td>\n",
              "      <td>594.0</td>\n",
              "      <td>365</td>\n",
              "      <td>41.05</td>\n",
              "    </tr>\n",
              "    <tr>\n",
              "      <th>4</th>\n",
              "      <td>198.6</td>\n",
              "      <td>132.4</td>\n",
              "      <td>0.0</td>\n",
              "      <td>192.0</td>\n",
              "      <td>0.0</td>\n",
              "      <td>978.4</td>\n",
              "      <td>825.5</td>\n",
              "      <td>360</td>\n",
              "      <td>44.30</td>\n",
              "    </tr>\n",
              "  </tbody>\n",
              "</table>\n",
              "</div>"
            ],
            "text/plain": [
              "   Cement  BlastFurnaceSlag  FlyAsh  Water  Superplasticizer  CoarseAggregate  \\\n",
              "0   540.0               0.0     0.0  162.0               2.5           1040.0   \n",
              "1   540.0               0.0     0.0  162.0               2.5           1055.0   \n",
              "2   332.5             142.5     0.0  228.0               0.0            932.0   \n",
              "3   332.5             142.5     0.0  228.0               0.0            932.0   \n",
              "4   198.6             132.4     0.0  192.0               0.0            978.4   \n",
              "\n",
              "   FineAggregate  Age  CompressiveStrength  \n",
              "0          676.0   28                79.99  \n",
              "1          676.0   28                61.89  \n",
              "2          594.0  270                40.27  \n",
              "3          594.0  365                41.05  \n",
              "4          825.5  360                44.30  "
            ]
          },
          "metadata": {
            "tags": []
          },
          "execution_count": 1
        }
      ]
    },
    {
      "cell_type": "markdown",
      "metadata": {
        "papermill": {
          "duration": 0.003921,
          "end_time": "2021-03-05T15:10:15.013660",
          "exception": false,
          "start_time": "2021-03-05T15:10:15.009739",
          "status": "completed"
        },
        "tags": [],
        "id": "W61ObjphnLmg"
      },
      "source": [
        "You can see here the various ingredients going into each variety of concrete. We'll see in a moment how adding some additional synthetic features derived from these can help a model to learn important relationships among them.\n",
        "\n",
        "We'll first establish a baseline by training the model on the un-augmented dataset. This will help us determine whether our new features are actually useful.\n",
        "\n",
        "Establishing baselines like this is good practice at the start of the feature engineering process. A baseline score can help you decide whether your new features are worth keeping, or whether you should discard them and possibly try something else."
      ]
    },
    {
      "cell_type": "code",
      "metadata": {
        "execution": {
          "iopub.execute_input": "2021-03-05T15:10:15.028708Z",
          "iopub.status.busy": "2021-03-05T15:10:15.027929Z",
          "iopub.status.idle": "2021-03-05T15:10:26.093611Z",
          "shell.execute_reply": "2021-03-05T15:10:26.093083Z"
        },
        "papermill": {
          "duration": 11.076019,
          "end_time": "2021-03-05T15:10:26.093768",
          "exception": false,
          "start_time": "2021-03-05T15:10:15.017749",
          "status": "completed"
        },
        "tags": [],
        "id": "v02dWr_onLmh",
        "outputId": "e76ea8cc-78b3-46a0-8211-7341b70132ef"
      },
      "source": [
        "X = df.copy()\n",
        "y = X.pop(\"CompressiveStrength\")\n",
        "\n",
        "# Train and score baseline model\n",
        "baseline = KNeighborsClassifier(n_neighbors=3)\n",
        "baseline.fit(X_train, y_train)\n",
        "y_predict = baseline.predict(X_test)\n",
        "baseline_score = baseline.score (y_test, y_predict1)\n",
        "\n",
        "\n",
        "print(f\"Baseline Score: {baseline_score:.4}\")"
      ],
      "execution_count": null,
      "outputs": [
        {
          "output_type": "stream",
          "text": [
            "MAE Baseline Score: 8.232\n"
          ],
          "name": "stdout"
        }
      ]
    },
    {
      "cell_type": "markdown",
      "metadata": {
        "papermill": {
          "duration": 0.004283,
          "end_time": "2021-03-05T15:10:26.102698",
          "exception": false,
          "start_time": "2021-03-05T15:10:26.098415",
          "status": "completed"
        },
        "tags": [],
        "id": "de3cz2BLnLmj"
      },
      "source": [
        "If you ever cook at home, you might know that the *ratio* of ingredients in a recipe is usually a better predictor of how the recipe turns out than their absolute amounts. We might reason then that ratios of the features above would be a good predictor of `CompressiveStrength`.\n",
        "\n",
        "The cell below adds three new ratio features to the dataset."
      ]
    },
    {
      "cell_type": "code",
      "metadata": {
        "execution": {
          "iopub.execute_input": "2021-03-05T15:10:26.120201Z",
          "iopub.status.busy": "2021-03-05T15:10:26.119480Z",
          "iopub.status.idle": "2021-03-05T15:10:41.395312Z",
          "shell.execute_reply": "2021-03-05T15:10:41.394608Z"
        },
        "papermill": {
          "duration": 15.288409,
          "end_time": "2021-03-05T15:10:41.395460",
          "exception": false,
          "start_time": "2021-03-05T15:10:26.107051",
          "status": "completed"
        },
        "tags": [],
        "id": "sLeVlnSenLml"
      },
      "source": [
        "X = df.copy()\n",
        "y = X.pop(\"CompressiveStrength\")\n",
        "\n",
        "# Create synthetic features\n",
        "X[\"FCRatio\"] = X[\"FineAggregate\"] / X[\"CoarseAggregate\"]\n",
        "X[\"AggCmtRatio\"] = (X[\"CoarseAggregate\"] + X[\"FineAggregate\"]) / X[\"Cement\"]\n",
        "X[\"WtrCmtRatio\"] = X[\"Water\"] / X[\"Cement\"]\n",
        "\n",
        "# Train and score model on dataset with additional ratio features\n",
        "model = KNeighborsClassifier(n_neighbors=3)\n",
        "model.fit(X_train, y_train)\n",
        "y_predict = model.predict(X_test)\n",
        "score = model.score (y_test, y_predict)\n",
        "\n",
        "print(f\"Score with Ratio Features: {score:.4}\")"
      ],
      "execution_count": null,
      "outputs": []
    }
  ]
}