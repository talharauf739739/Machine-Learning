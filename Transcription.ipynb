{
  "cells": [
    {
      "cell_type": "markdown",
      "metadata": {
        "id": "xZMYnyrBSRui"
      },
      "source": [
        "**Mount to zip**"
      ]
    },
    {
      "cell_type": "code",
      "execution_count": null,
      "metadata": {
        "colab": {
          "base_uri": "https://localhost:8080/"
        },
        "id": "ZpczIEFDSUbr",
        "outputId": "2218d6f0-f450-4f71-f4a7-352c5dd27ed5"
      },
      "outputs": [
        {
          "name": "stdout",
          "output_type": "stream",
          "text": [
            "Drive already mounted at /content/drive; to attempt to forcibly remount, call drive.mount(\"/content/drive\", force_remount=True).\n"
          ]
        }
      ],
      "source": [
        "from google.colab import drive\n",
        "drive.mount('/content/drive')"
      ]
    },
    {
      "cell_type": "markdown",
      "metadata": {
        "id": "fjqd6xx7SvXW"
      },
      "source": [
        "**unzip audio file**"
      ]
    },
    {
      "cell_type": "code",
      "execution_count": null,
      "metadata": {
        "colab": {
          "base_uri": "https://localhost:8080/"
        },
        "id": "zj7rG9DySurI",
        "outputId": "d71d9e45-e9eb-410b-9d95-7d8d372bf164"
      },
      "outputs": [
        {
          "name": "stdout",
          "output_type": "stream",
          "text": [
            "Files extracted successfully: ['Audios']\n"
          ]
        }
      ],
      "source": [
        "from google.colab import drive\n",
        "import zipfile\n",
        "import os\n",
        "\n",
        "# Mount Google Drive\n",
        "#drive.mount('/content/drive')\n",
        "\n",
        "# Path to the zip file in your Google Drive\n",
        "zip_file_path = '/content/drive/MyDrive/Audios.zip'\n",
        "\n",
        "# Directory to extract the contents of the zip file\n",
        "extract_to_directory = '/content/Audio_Data'\n",
        "\n",
        "# Create the directory if it doesn't exist\n",
        "if not os.path.exists(extract_to_directory):\n",
        "    os.makedirs(extract_to_directory)\n",
        "\n",
        "# Unzip the file\n",
        "with zipfile.ZipFile(zip_file_path, 'r') as zip_ref:\n",
        "    zip_ref.extractall(extract_to_directory)\n",
        "\n",
        "# List the contents of the extracted directory\n",
        "extracted_files = os.listdir(extract_to_directory)\n",
        "print(\"Files extracted successfully:\", extracted_files)\n"
      ]
    },
    {
      "cell_type": "markdown",
      "metadata": {
        "id": "CUT6AgMPTab0"
      },
      "source": [
        "**Mp3 to Wav Conversion**"
      ]
    },
    {
      "cell_type": "code",
      "execution_count": null,
      "metadata": {
        "colab": {
          "base_uri": "https://localhost:8080/"
        },
        "id": "4DdOkxZGTf07",
        "outputId": "095de036-921f-4f3a-c7bc-2ed56c680c61"
      },
      "outputs": [
        {
          "name": "stdout",
          "output_type": "stream",
          "text": [
            "Requirement already satisfied: pydub in /usr/local/lib/python3.10/dist-packages (0.25.1)\n"
          ]
        }
      ],
      "source": [
        "!pip install pydub\n"
      ]
    },
    {
      "cell_type": "code",
      "execution_count": null,
      "metadata": {
        "colab": {
          "base_uri": "https://localhost:8080/"
        },
        "id": "EFfdNrnZXEfG",
        "outputId": "a406befa-9009-4ee9-a094-bff394342ff1"
      },
      "outputs": [
        {
          "name": "stdout",
          "output_type": "stream",
          "text": [
            "Converted POINOUT_20231204-124426_03026230702_3029_1147971-all.mp3 to POINOUT_20231204-124426_03026230702_3029_1147971-all.wav\n",
            "Converted POINOUT_20231204-123020_03121543602_3019_1147914-all.mp3 to POINOUT_20231204-123020_03121543602_3019_1147914-all.wav\n",
            "Converted POINOUT_20231204-103815_03452221123_3029_1147398-all.mp3 to POINOUT_20231204-103815_03452221123_3029_1147398-all.wav\n"
          ]
        }
      ],
      "source": [
        "from pydub import AudioSegment\n",
        "import os\n",
        "\n",
        "def mp3_to_wav(mp3_file, wav_file):\n",
        "    # Load the MP3 file\n",
        "    audio = AudioSegment.from_mp3(mp3_file)\n",
        "\n",
        "    # Export the audio to WAV format\n",
        "    audio.export(wav_file, format=\"wav\")\n",
        "\n",
        "# Replace 'input_folder_path' with the path to your folder containing MP3 files\n",
        "input_folder_path = '/content/Audio_Data/Audios'\n",
        "\n",
        "# Replace 'output_folder_path' with the directory where you want to save WAV files\n",
        "output_folder_path = '/content/Audio_Data_in_wav_format'\n",
        "\n",
        "# Create the output folder if it doesn't exist\n",
        "if not os.path.exists(output_folder_path):\n",
        "    os.makedirs(output_folder_path)\n",
        "\n",
        "# Loop through each file in the input folder\n",
        "for filename in os.listdir(input_folder_path):\n",
        "    if filename.endswith('.mp3'):  # Check if the file is an MP3 file\n",
        "        mp3_file_path = os.path.join(input_folder_path, filename)\n",
        "\n",
        "        # Generate the corresponding WAV file name\n",
        "        wav_file_path = os.path.join(output_folder_path, os.path.splitext(filename)[0] + '.wav')\n",
        "\n",
        "        # Convert MP3 to WAV\n",
        "        mp3_to_wav(mp3_file_path, wav_file_path)\n",
        "        print(f\"Converted {filename} to {os.path.basename(wav_file_path)}\")\n"
      ]
    },
    {
      "cell_type": "markdown",
      "metadata": {
        "id": "bsjON-NyNizU"
      },
      "source": [
        "\n",
        "The **speech_recognition** library in Python is a versatile package that provides speech recognition capabilities to convert spoken language into text. It allows developers to integrate speech recognition functionality into their Python applications.\n",
        "\n",
        "Key features of the speech_recognition library:\n",
        "\n",
        "Support for Multiple Speech Recognition Engines: It supports various speech recognition engines or APIs, including Google Web Speech API, IBM Speech to Text, CMU Sphinx, and more. This flexibility allows you to choose the most suitable recognition engine for your needs.\n",
        "\n",
        "Audio File and Microphone Input: The library can process audio input from both audio files and microphone recordings. It supports various audio file formats such as WAV, AIFF, FLAC, and more.\n",
        "\n",
        "Simple Integration: It offers a straightforward API that simplifies the process of implementing speech recognition functionality in Python applications. The library's methods and classes make it easy to perform speech recognition tasks.\n",
        "\n",
        "Exception Handling: The library provides error handling mechanisms to handle situations when speech recognition fails or encounters issues, enabling developers to handle such scenarios gracefully."
      ]
    },
    {
      "cell_type": "code",
      "execution_count": null,
      "metadata": {
        "colab": {
          "base_uri": "https://localhost:8080/"
        },
        "id": "5n7bz6ZAtBeU",
        "outputId": "b03d5a7e-af63-4885-9110-fb34a4e26c75"
      },
      "outputs": [
        {
          "name": "stdout",
          "output_type": "stream",
          "text": [
            "Requirement already satisfied: SpeechRecognition in /usr/local/lib/python3.10/dist-packages (3.10.1)\n",
            "Requirement already satisfied: requests>=2.26.0 in /usr/local/lib/python3.10/dist-packages (from SpeechRecognition) (2.31.0)\n",
            "Requirement already satisfied: typing-extensions in /usr/local/lib/python3.10/dist-packages (from SpeechRecognition) (4.5.0)\n",
            "Requirement already satisfied: charset-normalizer<4,>=2 in /usr/local/lib/python3.10/dist-packages (from requests>=2.26.0->SpeechRecognition) (3.3.2)\n",
            "Requirement already satisfied: idna<4,>=2.5 in /usr/local/lib/python3.10/dist-packages (from requests>=2.26.0->SpeechRecognition) (2.10)\n",
            "Requirement already satisfied: urllib3<3,>=1.21.1 in /usr/local/lib/python3.10/dist-packages (from requests>=2.26.0->SpeechRecognition) (2.0.7)\n",
            "Requirement already satisfied: certifi>=2017.4.17 in /usr/local/lib/python3.10/dist-packages (from requests>=2.26.0->SpeechRecognition) (2023.11.17)\n"
          ]
        }
      ],
      "source": [
        "!pip install SpeechRecognition\n"
      ]
    },
    {
      "cell_type": "markdown",
      "metadata": {
        "id": "2OtyjYGV1c1E"
      },
      "source": [
        "**Transcription Into Urdu**"
      ]
    },
    {
      "cell_type": "code",
      "execution_count": null,
      "metadata": {
        "colab": {
          "base_uri": "https://localhost:8080/",
          "height": 54
        },
        "id": "WYhjQvU-1gGF",
        "outputId": "f937fb44-428c-4414-c31c-756932bc6e38"
      },
      "outputs": [
        {
          "data": {
            "application/vnd.google.colaboratory.intrinsic+json": {
              "type": "string"
            },
            "text/plain": [
              "'# Usage of the function\\naudio_file_path = \"/content/POINOUT_20231204-124426_03026230702_3029_1147971-all.wav\"\\ntranscribed_text = transcribe_audio_to_urdu(audio_file_path)\\nprint(transcribed_text)\\n'"
            ]
          },
          "execution_count": 53,
          "metadata": {},
          "output_type": "execute_result"
        }
      ],
      "source": [
        "import speech_recognition as sr\n",
        "\n",
        "def transcribe_audio_to_urdu(audio_file_path):\n",
        "    recognizer = sr.Recognizer()\n",
        "\n",
        "    # Load the audio file\n",
        "    with sr.AudioFile(audio_file_path) as source:\n",
        "        audio = recognizer.record(source)\n",
        "\n",
        "    text = \"\"\n",
        "    chunk_duration = 30  # Adjust this duration as needed\n",
        "    total_duration = len(audio.frame_data) / audio.sample_rate\n",
        "    offset = 0\n",
        "\n",
        "    while offset < total_duration:\n",
        "        chunk_end = min(offset + chunk_duration, total_duration)\n",
        "        start_time = offset\n",
        "        end_time = chunk_end\n",
        "\n",
        "        start_sample = int(start_time * audio.sample_rate)\n",
        "        end_sample = int(end_time * audio.sample_rate)\n",
        "\n",
        "        audio_chunk = audio.get_raw_data(convert_rate=audio.sample_rate, convert_width=audio.sample_width)[start_sample * audio.sample_width:end_sample * audio.sample_width]\n",
        "\n",
        "        try:\n",
        "            chunk = sr.AudioData(audio_chunk, audio.sample_rate, audio.sample_width)\n",
        "            text += recognizer.recognize_google(chunk, language=\"ur-PK\") + \" \"\n",
        "        except sr.UnknownValueError:\n",
        "            print(\"Google Speech Recognition could not understand the audio\")\n",
        "        except sr.RequestError as e:\n",
        "            print(f\"Could not request results from Google Speech Recognition service; {e}\")\n",
        "\n",
        "        offset += chunk_duration\n",
        "\n",
        "    return text\n",
        "\n",
        "\"\"\"# Usage of the function\n",
        "audio_file_path = \"/content/POINOUT_20231204-124426_03026230702_3029_1147971-all.wav\"\n",
        "transcribed_text = transcribe_audio_to_urdu(audio_file_path)\n",
        "print(transcribed_text)\n",
        "\"\"\""
      ]
    },
    {
      "cell_type": "markdown",
      "metadata": {
        "id": "fsQaPl874e1S"
      },
      "source": [
        "**Call the Function, And Do Transcription**"
      ]
    },
    {
      "cell_type": "code",
      "execution_count": null,
      "metadata": {
        "colab": {
          "base_uri": "https://localhost:8080/"
        },
        "id": "O9gVJomv2tlF",
        "outputId": "79bfa806-f56b-432c-9ef4-d6736976d1ea"
      },
      "outputs": [
        {
          "name": "stdout",
          "output_type": "stream",
          "text": [
            "Google Speech Recognition could not understand the audio\n",
            "Google Speech Recognition could not understand the audio\n",
            "Google Speech Recognition could not understand the audio\n",
            "Google Speech Recognition could not understand the audio\n",
            "Google Speech Recognition could not understand the audio\n",
            "Google Speech Recognition could not understand the audio\n",
            "Google Speech Recognition could not understand the audio\n",
            "Google Speech Recognition could not understand the audio\n",
            "Google Speech Recognition could not understand the audio\n",
            "Google Speech Recognition could not understand the audio\n",
            "Google Speech Recognition could not understand the audio\n",
            "Google Speech Recognition could not understand the audio\n",
            "Google Speech Recognition could not understand the audio\n",
            "Google Speech Recognition could not understand the audio\n",
            "Google Speech Recognition could not understand the audio\n",
            "Google Speech Recognition could not understand the audio\n",
            "Google Speech Recognition could not understand the audio\n",
            "Transcribed text for POINOUT_20231204-103815_03452221123_3029_1147398-all.wav saved to transcribed_text_1.txt\n",
            "Google Speech Recognition could not understand the audio\n",
            "Google Speech Recognition could not understand the audio\n",
            "Google Speech Recognition could not understand the audio\n",
            "Google Speech Recognition could not understand the audio\n",
            "Google Speech Recognition could not understand the audio\n",
            "Transcribed text for POINOUT_20231204-123020_03121543602_3019_1147914-all.wav saved to transcribed_text_2.txt\n",
            "Google Speech Recognition could not understand the audio\n",
            "Google Speech Recognition could not understand the audio\n",
            "Google Speech Recognition could not understand the audio\n",
            "Google Speech Recognition could not understand the audio\n",
            "Google Speech Recognition could not understand the audio\n",
            "Google Speech Recognition could not understand the audio\n",
            "Google Speech Recognition could not understand the audio\n",
            "Google Speech Recognition could not understand the audio\n",
            "Google Speech Recognition could not understand the audio\n",
            "Google Speech Recognition could not understand the audio\n",
            "Google Speech Recognition could not understand the audio\n",
            "Google Speech Recognition could not understand the audio\n",
            "Transcribed text for POINOUT_20231204-124426_03026230702_3029_1147971-all.wav saved to transcribed_text_3.txt\n"
          ]
        }
      ],
      "source": [
        "audio_files_path = \"/content/Audio_Data_in_wav_format\"\n",
        "text_transcription_folder = \"/content/text_transcription_urdu_files\"\n",
        "\n",
        "# Create the output folder if it doesn't exist\n",
        "if not os.path.exists(text_transcription_folder):\n",
        "    os.makedirs(text_transcription_folder)\n",
        "\n",
        "text_count = 1  # Start the count from 1\n",
        "for audio_file in os.listdir(audio_files_path):\n",
        "    if audio_file.endswith('.wav'):\n",
        "        audio_file_path = os.path.join(audio_files_path, audio_file)\n",
        "\n",
        "        # Calling the Transcribed Function\n",
        "        transcribed_text = transcribe_audio_to_urdu(audio_file_path)\n",
        "        if transcribed_text:\n",
        "            text_file_name = f\"transcribed_text_{text_count}.txt\"\n",
        "            text_file_path = os.path.join(text_transcription_folder, text_file_name)\n",
        "\n",
        "            with open(text_file_path, 'w', encoding='utf-8') as text_file:\n",
        "                text_file.write(transcribed_text)\n",
        "\n",
        "            print(f\"Transcribed text for {audio_file} saved to {text_file_name}\")\n",
        "            text_count += 1  # Increment count after successful transcription"
      ]
    },
    {
      "cell_type": "markdown",
      "metadata": {
        "id": "Fjoo2JvUWwvp"
      },
      "source": [
        "**Language Translation**"
      ]
    },
    {
      "cell_type": "code",
      "execution_count": null,
      "metadata": {
        "colab": {
          "background_save": true,
          "base_uri": "https://localhost:8080/",
          "height": 647
        },
        "id": "ZM0-6w8G9x-_",
        "outputId": "d149329d-862b-412a-a33c-c404360df69c"
      },
      "outputs": [
        {
          "name": "stdout",
          "output_type": "stream",
          "text": [
            "Requirement already satisfied: googletrans in /usr/local/lib/python3.10/dist-packages (3.1.0a0)\n",
            "Requirement already satisfied: httpx==0.13.3 in /usr/local/lib/python3.10/dist-packages (from googletrans) (0.13.3)\n",
            "Requirement already satisfied: certifi in /usr/local/lib/python3.10/dist-packages (from httpx==0.13.3->googletrans) (2023.11.17)\n",
            "Requirement already satisfied: hstspreload in /usr/local/lib/python3.10/dist-packages (from httpx==0.13.3->googletrans) (2023.1.1)\n",
            "Requirement already satisfied: sniffio in /usr/local/lib/python3.10/dist-packages (from httpx==0.13.3->googletrans) (1.3.0)\n",
            "Requirement already satisfied: chardet==3.* in /usr/local/lib/python3.10/dist-packages (from httpx==0.13.3->googletrans) (3.0.4)\n",
            "Requirement already satisfied: idna==2.* in /usr/local/lib/python3.10/dist-packages (from httpx==0.13.3->googletrans) (2.10)\n",
            "Requirement already satisfied: rfc3986<2,>=1.3 in /usr/local/lib/python3.10/dist-packages (from httpx==0.13.3->googletrans) (1.5.0)\n",
            "Requirement already satisfied: httpcore==0.9.* in /usr/local/lib/python3.10/dist-packages (from httpx==0.13.3->googletrans) (0.9.1)\n",
            "Requirement already satisfied: h11<0.10,>=0.8 in /usr/local/lib/python3.10/dist-packages (from httpcore==0.9.*->httpx==0.13.3->googletrans) (0.9.0)\n",
            "Requirement already satisfied: h2==3.* in /usr/local/lib/python3.10/dist-packages (from httpcore==0.9.*->httpx==0.13.3->googletrans) (3.2.0)\n",
            "Requirement already satisfied: hyperframe<6,>=5.2.0 in /usr/local/lib/python3.10/dist-packages (from h2==3.*->httpcore==0.9.*->httpx==0.13.3->googletrans) (5.2.0)\n",
            "Requirement already satisfied: hpack<4,>=3.0 in /usr/local/lib/python3.10/dist-packages (from h2==3.*->httpcore==0.9.*->httpx==0.13.3->googletrans) (3.0.0)\n"
          ]
        }
      ],
      "source": [
        "!pip uninstall googletrans\n",
        "!pip install googletrans\n",
        "#!pip install google-trans-new\n"
      ]
    },
    {
      "cell_type": "code",
      "execution_count": null,
      "metadata": {
        "colab": {
          "base_uri": "https://localhost:8080/",
          "height": 460
        },
        "id": "i-GlkePkvESu",
        "outputId": "559b0c18-2e75-413e-a76a-7bbfc8fcb8d7"
      },
      "outputs": [
        {
          "ename": "google_new_transError",
          "evalue": "ignored",
          "output_type": "error",
          "traceback": [
            "\u001b[0;31m---------------------------------------------------------------------------\u001b[0m",
            "\u001b[0;31mHTTPError\u001b[0m                                 Traceback (most recent call last)",
            "\u001b[0;32m/usr/local/lib/python3.10/dist-packages/google_trans_new/google_trans_new.py\u001b[0m in \u001b[0;36mtranslate\u001b[0;34m(self, text, lang_tgt, lang_src, pronounce)\u001b[0m\n\u001b[1;32m    188\u001b[0m                         \u001b[0;32mraise\u001b[0m \u001b[0me\u001b[0m\u001b[0;34m\u001b[0m\u001b[0;34m\u001b[0m\u001b[0m\n\u001b[0;32m--> 189\u001b[0;31m             \u001b[0mr\u001b[0m\u001b[0;34m.\u001b[0m\u001b[0mraise_for_status\u001b[0m\u001b[0;34m(\u001b[0m\u001b[0;34m)\u001b[0m\u001b[0;34m\u001b[0m\u001b[0;34m\u001b[0m\u001b[0m\n\u001b[0m\u001b[1;32m    190\u001b[0m         \u001b[0;32mexcept\u001b[0m \u001b[0mrequests\u001b[0m\u001b[0;34m.\u001b[0m\u001b[0mexceptions\u001b[0m\u001b[0;34m.\u001b[0m\u001b[0mConnectTimeout\u001b[0m \u001b[0;32mas\u001b[0m \u001b[0me\u001b[0m\u001b[0;34m:\u001b[0m\u001b[0;34m\u001b[0m\u001b[0;34m\u001b[0m\u001b[0m\n",
            "\u001b[0;32m/usr/local/lib/python3.10/dist-packages/requests/models.py\u001b[0m in \u001b[0;36mraise_for_status\u001b[0;34m(self)\u001b[0m\n\u001b[1;32m   1020\u001b[0m         \u001b[0;32mif\u001b[0m \u001b[0mhttp_error_msg\u001b[0m\u001b[0;34m:\u001b[0m\u001b[0;34m\u001b[0m\u001b[0;34m\u001b[0m\u001b[0m\n\u001b[0;32m-> 1021\u001b[0;31m             \u001b[0;32mraise\u001b[0m \u001b[0mHTTPError\u001b[0m\u001b[0;34m(\u001b[0m\u001b[0mhttp_error_msg\u001b[0m\u001b[0;34m,\u001b[0m \u001b[0mresponse\u001b[0m\u001b[0;34m=\u001b[0m\u001b[0mself\u001b[0m\u001b[0;34m)\u001b[0m\u001b[0;34m\u001b[0m\u001b[0;34m\u001b[0m\u001b[0m\n\u001b[0m\u001b[1;32m   1022\u001b[0m \u001b[0;34m\u001b[0m\u001b[0m\n",
            "\u001b[0;31mHTTPError\u001b[0m: 404 Client Error: Not Found for url: https://translate.google.cn/_/TranslateWebserverUi/data/batchexecute",
            "\nDuring handling of the above exception, another exception occurred:\n",
            "\u001b[0;31mgoogle_new_transError\u001b[0m                     Traceback (most recent call last)",
            "\u001b[0;32m<ipython-input-60-1cbcfdef4ef4>\u001b[0m in \u001b[0;36m<cell line: 20>\u001b[0;34m()\u001b[0m\n\u001b[1;32m     30\u001b[0m \u001b[0;34m\u001b[0m\u001b[0m\n\u001b[1;32m     31\u001b[0m             \u001b[0;31m# Translate Urdu to English\u001b[0m\u001b[0;34m\u001b[0m\u001b[0;34m\u001b[0m\u001b[0m\n\u001b[0;32m---> 32\u001b[0;31m             \u001b[0mtranslated_text\u001b[0m \u001b[0;34m=\u001b[0m \u001b[0mtranslate_to_english\u001b[0m\u001b[0;34m(\u001b[0m\u001b[0murdu_text\u001b[0m\u001b[0;34m)\u001b[0m\u001b[0;34m\u001b[0m\u001b[0;34m\u001b[0m\u001b[0m\n\u001b[0m\u001b[1;32m     33\u001b[0m \u001b[0;34m\u001b[0m\u001b[0m\n\u001b[1;32m     34\u001b[0m             \u001b[0;31m# Write translated text to the English file\u001b[0m\u001b[0;34m\u001b[0m\u001b[0;34m\u001b[0m\u001b[0m\n",
            "\u001b[0;32m<ipython-input-60-1cbcfdef4ef4>\u001b[0m in \u001b[0;36mtranslate_to_english\u001b[0;34m(text)\u001b[0m\n\u001b[1;32m      4\u001b[0m \u001b[0;32mdef\u001b[0m \u001b[0mtranslate_to_english\u001b[0m\u001b[0;34m(\u001b[0m\u001b[0mtext\u001b[0m\u001b[0;34m)\u001b[0m\u001b[0;34m:\u001b[0m\u001b[0;34m\u001b[0m\u001b[0;34m\u001b[0m\u001b[0m\n\u001b[1;32m      5\u001b[0m     \u001b[0mtranslator\u001b[0m \u001b[0;34m=\u001b[0m \u001b[0mgoogle_translator\u001b[0m\u001b[0;34m(\u001b[0m\u001b[0;34m)\u001b[0m\u001b[0;34m\u001b[0m\u001b[0;34m\u001b[0m\u001b[0m\n\u001b[0;32m----> 6\u001b[0;31m     \u001b[0mtranslated_text\u001b[0m \u001b[0;34m=\u001b[0m \u001b[0mtranslator\u001b[0m\u001b[0;34m.\u001b[0m\u001b[0mtranslate\u001b[0m\u001b[0;34m(\u001b[0m\u001b[0mtext\u001b[0m\u001b[0;34m,\u001b[0m \u001b[0mlang_tgt\u001b[0m\u001b[0;34m=\u001b[0m\u001b[0;34m'en'\u001b[0m\u001b[0;34m)\u001b[0m\u001b[0;34m\u001b[0m\u001b[0;34m\u001b[0m\u001b[0m\n\u001b[0m\u001b[1;32m      7\u001b[0m     \u001b[0;32mreturn\u001b[0m \u001b[0mtranslated_text\u001b[0m\u001b[0;34m\u001b[0m\u001b[0;34m\u001b[0m\u001b[0m\n\u001b[1;32m      8\u001b[0m \u001b[0;34m\u001b[0m\u001b[0m\n",
            "\u001b[0;32m/usr/local/lib/python3.10/dist-packages/google_trans_new/google_trans_new.py\u001b[0m in \u001b[0;36mtranslate\u001b[0;34m(self, text, lang_tgt, lang_src, pronounce)\u001b[0m\n\u001b[1;32m    192\u001b[0m         \u001b[0;32mexcept\u001b[0m \u001b[0mrequests\u001b[0m\u001b[0;34m.\u001b[0m\u001b[0mexceptions\u001b[0m\u001b[0;34m.\u001b[0m\u001b[0mHTTPError\u001b[0m \u001b[0;32mas\u001b[0m \u001b[0me\u001b[0m\u001b[0;34m:\u001b[0m\u001b[0;34m\u001b[0m\u001b[0;34m\u001b[0m\u001b[0m\n\u001b[1;32m    193\u001b[0m             \u001b[0;31m# Request successful, bad response\u001b[0m\u001b[0;34m\u001b[0m\u001b[0;34m\u001b[0m\u001b[0m\n\u001b[0;32m--> 194\u001b[0;31m             \u001b[0;32mraise\u001b[0m \u001b[0mgoogle_new_transError\u001b[0m\u001b[0;34m(\u001b[0m\u001b[0mtts\u001b[0m\u001b[0;34m=\u001b[0m\u001b[0mself\u001b[0m\u001b[0;34m,\u001b[0m \u001b[0mresponse\u001b[0m\u001b[0;34m=\u001b[0m\u001b[0mr\u001b[0m\u001b[0;34m)\u001b[0m\u001b[0;34m\u001b[0m\u001b[0;34m\u001b[0m\u001b[0m\n\u001b[0m\u001b[1;32m    195\u001b[0m         \u001b[0;32mexcept\u001b[0m \u001b[0mrequests\u001b[0m\u001b[0;34m.\u001b[0m\u001b[0mexceptions\u001b[0m\u001b[0;34m.\u001b[0m\u001b[0mRequestException\u001b[0m \u001b[0;32mas\u001b[0m \u001b[0me\u001b[0m\u001b[0;34m:\u001b[0m\u001b[0;34m\u001b[0m\u001b[0;34m\u001b[0m\u001b[0m\n\u001b[1;32m    196\u001b[0m             \u001b[0;31m# Request failed\u001b[0m\u001b[0;34m\u001b[0m\u001b[0;34m\u001b[0m\u001b[0m\n",
            "\u001b[0;31mgoogle_new_transError\u001b[0m: 404 (Not Found) from TTS API. Probable cause: Unknown"
          ]
        }
      ],
      "source": [
        "from google_trans_new import google_translator\n",
        "import os\n",
        "\n",
        "def translate_to_english(text):\n",
        "    translator = google_translator()\n",
        "    translated_text = translator.translate(text, lang_tgt='en')\n",
        "    return translated_text\n",
        "\n",
        "# Replace 'input_folder_path_urdu' with the path to your folder containing Urdu files\n",
        "input_folder_path_urdu = '/content/text_transcription_urdu_files'\n",
        "\n",
        "# Replace 'output_folder_path_english' with the directory where you want to save English files\n",
        "output_folder_path_english = '/content/text_transcription_English_files'\n",
        "\n",
        "# Create the output folder if it doesn't exist\n",
        "if not os.path.exists(output_folder_path_english):\n",
        "    os.makedirs(output_folder_path_english)\n",
        "\n",
        "# Loop through each file in the input folder\n",
        "for filename in os.listdir(input_folder_path_urdu):\n",
        "    if filename.endswith('.txt'):  # Check if the file is an Urdu file\n",
        "        urdu_file_path = os.path.join(input_folder_path_urdu, filename)\n",
        "\n",
        "        # Generate the corresponding English file path\n",
        "        english_file_path = os.path.join(output_folder_path_english, os.path.splitext(filename)[0] + '_ENGLISH.txt')\n",
        "\n",
        "        # Read the content of the Urdu file\n",
        "        with open(urdu_file_path, 'r', encoding='utf-8') as urdu_file:\n",
        "            urdu_text = urdu_file.read()\n",
        "\n",
        "            # Translate Urdu to English\n",
        "            translated_text = translate_to_english(urdu_text)\n",
        "\n",
        "            # Write translated text to the English file\n",
        "            with open(english_file_path, 'w', encoding='utf-8') as english_file:\n",
        "                english_file.write(translated_text)\n",
        "\n",
        "        print(f\"Converted {filename} to {os.path.basename(english_file_path)}\")\n"
      ]
    },
    {
      "cell_type": "code",
      "execution_count": null,
      "metadata": {
        "id": "Cf0khsemt_s2"
      },
      "outputs": [],
      "source": [
        "import os\n",
        "from googletrans import Translator\n",
        "\n",
        "def translate_to_english(text):\n",
        "    # Create a Translator object\n",
        "    translator = Translator()\n",
        "\n",
        "    # Translate the text to English\n",
        "    translated_text = translator.translate(text, dest='en')\n",
        "\n",
        "    return translated_text.text\n",
        "\n",
        "# Replace 'input_folder_path_urdu' with the path to your folder containing Urdu files\n",
        "input_folder_path_urdu = '/content/text_transcription_urdu_files'\n",
        "\n",
        "# Replace 'output_folder_path_english' with the directory where you want to save English files\n",
        "output_folder_path_english = '/content/text_transcription_English_files'\n",
        "\n",
        "# Create the output folder if it doesn't exist\n",
        "if not os.path.exists(output_folder_path_english):\n",
        "    os.makedirs(output_folder_path_english)\n",
        "\n",
        "# Loop through each file in the input folder\n",
        "for filename in os.listdir(input_folder_path_urdu):\n",
        "    if filename.endswith('.txt'):  # Check if the file is an Urdu file\n",
        "        urdu_file_path = os.path.join(input_folder_path_urdu, filename)\n",
        "\n",
        "        # Generate the corresponding English file path\n",
        "        english_file_path = os.path.join(output_folder_path_english, os.path.splitext(filename)[0] + '_ENGLISH.txt')\n",
        "\n",
        "        # Read the content of the Urdu file\n",
        "        with open(urdu_file_path, 'r', encoding='utf-8') as urdu_file:\n",
        "            urdu_text = urdu_file.read()\n",
        "\n",
        "            # Translate Urdu to English\n",
        "            translated_text = translate_to_english(urdu_text)\n",
        "\n",
        "            # Write translated text to the English file\n",
        "            with open(english_file_path, 'w', encoding='utf-8') as english_file:\n",
        "                english_file.write(translated_text)\n",
        "\n",
        "        print(f\"Converted {filename} to {os.path.basename(english_file_path)}\")\n"
      ]
    },
    {
      "cell_type": "code",
      "execution_count": null,
      "metadata": {
        "id": "MbnSHTSwW_Lg"
      },
      "outputs": [],
      "source": [
        "from googletrans import Translator\n",
        "\n",
        "\"\"\"\n",
        "# Create a Translator object\n",
        "translator = Translator()\n",
        "# Your text to be translated\n",
        "text_to_translate = text\n",
        "# Translate the text to English\n",
        "translated_text = translator.translate(text_to_translate, dest='en')\n",
        "# Display the translated text\n",
        "print(f\"Original Text: {text_to_translate}\")\n",
        "print(f\"Translated Text (to English): {translated_text.text}\")\n",
        "\"\"\"\n",
        "from googletrans import Translator\n",
        "\n",
        "def translate_to_english(text):\n",
        "    # Create a Translator object\n",
        "    translator = Translator()\n",
        "\n",
        "    # Translate the text to English\n",
        "    translated_text = translator.translate(text, dest='en')\n",
        "\n",
        "    return translated_text.text\n",
        "\n",
        "# Example usage:\n",
        "# text_to_translate = \"Your text to be translated\"\n",
        "# translated_text = translate_to_english(text_to_translate)\n",
        "# print(translated_text)\n",
        "\n",
        "\n",
        "# Replace 'input_folder_path' with the path to your folder containing Urdu files\n",
        "input_folder_path_urdu = '/content/text_transcription_urdu_files'\n",
        "\n",
        "\n",
        "# Replace 'output_folder_path' with the directory where you want to save English files\n",
        "output_folder_path_english = '/content/text_transcription_English_files'\n",
        "\n",
        "# Create the output folder if it doesn't exist\n",
        "if not os.path.exists(output_folder_path_english):\n",
        "    os.makedirs(output_folder_path_english)\n",
        "\n",
        "# Loop through each file in the input folder\n",
        "for filename in os.listdir(input_folder_path_urdu):\n",
        "    if filename.endswith('.txt'):  # Check if the file is an Urdu file\n",
        "        urdu_file_path = os.path.join(input_folder_path_urdu, filename)\n",
        "\n",
        "        # Generate the corresponding WAV file name\n",
        "        english_file_path = os.path.join(output_folder_path_english, os.path.splitext(filename)[0] + '.txt')\n",
        "\n",
        "        # Convert Urdu to English\n",
        "        translate_to_english.(urdu_file_path, filename)\n",
        "        print(f\"Converted {filename} to {os.path.basename(english_file_path)}\")"
      ]
    },
    {
      "cell_type": "code",
      "execution_count": null,
      "metadata": {
        "id": "5qZX-OJkgzbg"
      },
      "outputs": [],
      "source": [
        "translated_text.text"
      ]
    },
    {
      "cell_type": "code",
      "execution_count": null,
      "metadata": {
        "id": "6T4SZ4pkhl0k"
      },
      "outputs": [],
      "source": []
    }
  ],
  "metadata": {
    "colab": {
      "provenance": []
    },
    "kernelspec": {
      "display_name": "Python 3",
      "name": "python3"
    },
    "language_info": {
      "name": "python"
    }
  },
  "nbformat": 4,
  "nbformat_minor": 0
}