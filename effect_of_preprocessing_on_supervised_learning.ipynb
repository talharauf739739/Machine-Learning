{
  "nbformat": 4,
  "nbformat_minor": 0,
  "metadata": {
    "colab": {
      "name": " effect of preprocessing on supervised learning.ipynb",
      "provenance": []
    },
    "kernelspec": {
      "name": "python3",
      "display_name": "Python 3"
    },
    "language_info": {
      "name": "python"
    }
  },
  "cells": [
    {
      "cell_type": "markdown",
      "metadata": {
        "id": "wnHbktZcA294"
      },
      "source": [
        "**The  effect of preprocessing on supervised learning**\n",
        "\n",
        "Now let’s go back to the cancer dataset and see what the effect of using the Min\n",
        "MaxScaler is on learning the SVC (this is a different way of doing the same scaling we\n",
        "done before"
      ]
    },
    {
      "cell_type": "code",
      "metadata": {
        "colab": {
          "base_uri": "https://localhost:8080/",
          "height": 245
        },
        "id": "Nh1yU9uvA7Sr",
        "outputId": "9f50de8d-c211-4f66-89ae-84bad766254e"
      },
      "source": [
        "\n",
        "\n",
        "#First, let’s fit the SVC on the original data again for comparison:\n",
        "from sklearn.svm import SVC\n",
        "from sklearn.datasets import load_breast_cancer\n",
        "data = load_breast_cancer()\n",
        "data\n",
        "data.target[[10, 50, 85]]\n",
        "\n",
        "list(data.target_names)\n",
        "['malignant', 'benign']\n",
        "\n",
        "#X = cancer.data\n",
        "#y = cancer.target\n",
        "\n",
        "# split it into training and test set\n",
        "from sklearn.model_selection import train_test_split\n",
        "X_train, X_test, y_train, y_test = train_test_split(cancer.data, cancer.target,\n",
        " random_state=0)\n",
        "svm = SVC(C=100)\n",
        "svm.fit(X_train, y_train)\n",
        "print(svm.score(X_test, y_test))\n"
      ],
      "execution_count": 9,
      "outputs": [
        {
          "output_type": "error",
          "ename": "NameError",
          "evalue": "ignored",
          "traceback": [
            "\u001b[0;31m---------------------------------------------------------------------------\u001b[0m",
            "\u001b[0;31mNameError\u001b[0m                                 Traceback (most recent call last)",
            "\u001b[0;32m<ipython-input-9-223de90184c9>\u001b[0m in \u001b[0;36m<module>\u001b[0;34m()\u001b[0m\n\u001b[1;32m     16\u001b[0m \u001b[0;31m# split it into training and test set\u001b[0m\u001b[0;34m\u001b[0m\u001b[0;34m\u001b[0m\u001b[0;34m\u001b[0m\u001b[0m\n\u001b[1;32m     17\u001b[0m \u001b[0;32mfrom\u001b[0m \u001b[0msklearn\u001b[0m\u001b[0;34m.\u001b[0m\u001b[0mmodel_selection\u001b[0m \u001b[0;32mimport\u001b[0m \u001b[0mtrain_test_split\u001b[0m\u001b[0;34m\u001b[0m\u001b[0;34m\u001b[0m\u001b[0m\n\u001b[0;32m---> 18\u001b[0;31m X_train, X_test, y_train, y_test = train_test_split(cancer.data, cancer.target,\n\u001b[0m\u001b[1;32m     19\u001b[0m  random_state=0)\n\u001b[1;32m     20\u001b[0m \u001b[0msvm\u001b[0m \u001b[0;34m=\u001b[0m \u001b[0mSVC\u001b[0m\u001b[0;34m(\u001b[0m\u001b[0mC\u001b[0m\u001b[0;34m=\u001b[0m\u001b[0;36m100\u001b[0m\u001b[0;34m)\u001b[0m\u001b[0;34m\u001b[0m\u001b[0;34m\u001b[0m\u001b[0m\n",
            "\u001b[0;31mNameError\u001b[0m: name 'cancer' is not defined"
          ]
        }
      ]
    },
    {
      "cell_type": "code",
      "metadata": {
        "id": "fRox7YcCBapr"
      },
      "source": [
        "#Now, let’s scale the data using MinMaxScaler before fitting the SVC:\n",
        "# preprocessing using 0-1 scaling\n",
        "scaler = MinMaxScaler()\n",
        "scaler.fit(X_train)\n",
        "X_train_scaled = scaler.transform(X_train)\n",
        "X_test_scaled = scaler.transform(X_test)\n",
        "\n",
        "\n",
        "# learning an SVM on the scaled training data\n",
        "svm.fit(X_train_scaled, y_train)\n",
        "\n",
        "\n",
        "# scoring on the scaled test set\n",
        "svm.score(X_test_scaled, y_test)\n",
        "\n"
      ],
      "execution_count": null,
      "outputs": []
    },
    {
      "cell_type": "markdown",
      "metadata": {
        "id": "opfk11KnBpdy"
      },
      "source": [
        "As we saw before, the effect of scaling the data is quite significant. Even though scal‐\n",
        "ing the data doesn’t involve any complicated math, it is good practice to use the scal‐\n",
        "ing mechanisms provided by scikit-learn, instead of reimplementing them yourself,\n",
        "as making mistakes even in these simple computations is easy.\n",
        "You can also easily replace one preprocessing algorithm by another by changing the\n",
        "class you use, as all of the preprocessing classes have the same interface, consisting of\n",
        "the fit and transform methods:"
      ]
    },
    {
      "cell_type": "code",
      "metadata": {
        "id": "tkvl-wdDBmkP"
      },
      "source": [
        "\n",
        "# preprocessing using zero mean and unit variance scaling\n",
        "from sklearn.preprocessing import StandardScaler\n",
        "scaler = StandardScaler()\n",
        "scaler.fit(X_train)\n",
        "X_train_scaled = scaler.transform(X_train)\n",
        "X_test_scaled = scaler.transform(X_test)\n",
        "# learning an SVM on the scaled training data\n",
        "svm.fit(X_train_scaled, y_train)\n",
        "# scoring on the scaled test set\n",
        "svm.score(X_test_scaled, y_test)"
      ],
      "execution_count": null,
      "outputs": []
    }
  ]
}