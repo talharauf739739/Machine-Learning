{
  "nbformat": 4,
  "nbformat_minor": 0,
  "metadata": {
    "colab": {
      "provenance": []
    },
    "kernelspec": {
      "name": "python3",
      "display_name": "Python 3"
    },
    "language_info": {
      "name": "python"
    }
  },
  "cells": [
    {
      "cell_type": "code",
      "execution_count": null,
      "metadata": {
        "id": "p9d2cIquR-Yu"
      },
      "outputs": [],
      "source": [
        "import pandas as pd\n",
        "import numpy as np\n",
        "import seaborn as sea\n",
        "import matplotlib as plt\n",
        "import regex as re\n"
      ]
    },
    {
      "cell_type": "code",
      "source": [
        "\n",
        "import pandas as pd\n",
        "\n",
        "df2 = pd.read_excel('/content/Coupon_Less_Than_1.xlsx')\n",
        "df1 = pd.read_excel('/content/Loss_Detection.xlsx')\n",
        "\n",
        "\n",
        "# Assuming you have loaded the two DataFrames 'Coupon_greater_than_1' and 'Loss_Detection' from your data source\n",
        "\n",
        "# Identify the duplicate 'Phone' values in 'Repeated_Coupons_Receivers'\n",
        "duplicate_phones = df2['Phone']\n",
        "\n",
        "# If df1 contains df2, Create a new Column in df1 ['Coupon_Counts>1'], if found, than update the 'Coupon_Counts>1' rows as 'Coupon_Counts>1' else 'Coupon_Counts<1'\n",
        "\n",
        "\n",
        "Loss_Detection = df1[df1['Phone'].isin(duplicate_phones)]\n",
        "\n",
        "# Assuming you have loaded your DataFrame df1 and have a list of duplicate phones named duplicate_phones\n",
        "\n",
        "# Create a new column 'Coupon_Count>1' based on the condition\n",
        "df1['Coupon_Count>1'] = df1['Phone'].apply(lambda x: 'Coupon_Count>1' if x in duplicate_phones else 'Not Considered')\n",
        "\n",
        "# Display the value counts of the 'Coupon_Count>1' column\n",
        "value_counts = df1['Coupon_Count>1'].value_counts()\n",
        "print(value_counts)\n",
        "\n",
        "# Save the DataFrame to an Excel file\n",
        "df1.to_excel('/content/loss_detection_stuff_new.xlsx', index=False)\n"
      ],
      "metadata": {
        "colab": {
          "base_uri": "https://localhost:8080/"
        },
        "id": "cE98Xd3UZnEv",
        "outputId": "b01e4649-f461-4f70-b4bf-53afb977bf98"
      },
      "execution_count": null,
      "outputs": [
        {
          "output_type": "stream",
          "name": "stdout",
          "text": [
            "Not Considered    254\n",
            "Name: Coupon_Count>1, dtype: int64\n"
          ]
        }
      ]
    },
    {
      "cell_type": "markdown",
      "source": [
        "Read the Dataset 'Loss Detection', then iterate through dataframe columns ['Phone', 'Coupon Discount'], Than Develop Two Dataframes on the basis of Coupon Counts =1 AND Coupon Counts = > 1\n"
      ],
      "metadata": {
        "id": "JeztsSwtnkFk"
      }
    },
    {
      "cell_type": "code",
      "source": [
        "import pandas as pd\n",
        "\n",
        "# Read the Excel file into a DataFrame\n",
        "df = pd.read_excel('/content/Loss_Detection.xlsx')\n",
        "\n",
        "# Create a dictionary to store the counts of each 'Phone' value\n",
        "phone_counts = {}\n",
        "\n",
        "# Iterate through the DataFrame\n",
        "for index, row in df.iterrows():\n",
        "    phone = row['Phone']\n",
        "    discount = row['Coupon Discount']\n",
        "\n",
        "    # Check if the 'Phone' value has been seen before\n",
        "    if phone in phone_counts:\n",
        "        # Increment the count for this 'Phone' value\n",
        "        phone_counts[phone] += 1\n",
        "    else:\n",
        "        # Initialize the count for this 'Phone' value\n",
        "        phone_counts[phone] = 1\n",
        "\n",
        "    # Update the 'Coupon Discount' column based on the count\n",
        "    if phone_counts[phone] > 1:\n",
        "        df.at[index, 'Coupon Discount'] = f\"{discount} X {phone_counts[phone]}\"\n",
        "\n",
        "\n",
        "\n",
        "# Now, 'df' contains only the rows where 'Coupon Discount' contains 'X' and keeps only the last one\n",
        "df.to_excel('/content/Coupon_Count(1)_on_the_basis_of_loss.xlsx', index =False)\n",
        "\n",
        "#Check Duplicates\n",
        "\n",
        "duplicates = df[df['Phone'].duplicated(keep=False)]\n",
        "print(duplicates)\n",
        "duplicates.to_excel('/content/Coupon_Count>1_on_the_basis_of_loss.xlsx', index = False)"
      ],
      "metadata": {
        "colab": {
          "base_uri": "https://localhost:8080/"
        },
        "id": "BEQPLc1qS6gx",
        "outputId": "d0547965-7ebb-4b85-dce5-c396d21d1456"
      },
      "execution_count": null,
      "outputs": [
        {
          "output_type": "stream",
          "name": "stdout",
          "text": [
            "     Order ID  Product Value  COD Amount  Purchase Price Coupon Discount  \\\n",
            "15     196720           1699        1199            1500             500   \n",
            "21     199966          43300       42800           48500             500   \n",
            "35     205525           1550        1050            1450         500 X 2   \n",
            "36     205976            799          49             610             500   \n",
            "41     210708            799          49             610             500   \n",
            "46     212394           2299        1799            2000         500 X 3   \n",
            "50     213273           2299        1799            2000             500   \n",
            "60     220796           2299        1799            2000         500 X 2   \n",
            "69     223840            549          22             475         500 X 2   \n",
            "78     227235           3150        2650            2750             500   \n",
            "79     227462           3150        2386            2750         500 X 2   \n",
            "95     238057           1850        1350            1850             500   \n",
            "133    255030           3999        3499            3713             500   \n",
            "140    260975          30999       30499           30750             500   \n",
            "146    264389          45599       44946           45368         500 X 2   \n",
            "154    269233           3699        3199            3350             500   \n",
            "161    273860           3499        2999            3250         500 X 3   \n",
            "162    273873           1249         749             975         500 X 4   \n",
            "163    274039           2450        1907            1975         500 X 2   \n",
            "166    277288            999         499             826         500 X 2   \n",
            "175    283933            999         499             826         500 X 2   \n",
            "185    288340           1249         749             950         500 X 5   \n",
            "186    288760            999         273             826         500 X 3   \n",
            "188    290420           2399        1899            2050             500   \n",
            "189    291097           2249        1749            2064             500   \n",
            "191    291450            999         499             826         500 X 6   \n",
            "194    294159           3999        3499            3639         500 X 2   \n",
            "196    294714           8499        7999            8000             500   \n",
            "200    296573          10099        9516            9600         500 X 2   \n",
            "204    297873           2450        1700            1995             500   \n",
            "205    297892           1999        1499            1500         500 X 2   \n",
            "208    298789           1249         749             950         500 X 2   \n",
            "211    301526          19499       18999           19200         500 X 2   \n",
            "214    301960          31499       30701           31250             500   \n",
            "222    307578           2999        2740            2928         250 X 2   \n",
            "227    316234           8499        8249            8280             250   \n",
            "229    317590          29199       28917           29000             250   \n",
            "238    324849            499         249             435         250 X 2   \n",
            "240    326487          36999       36344           36450         500 X 2   \n",
            "244    328549           6499        6176            6200         250 X 2   \n",
            "249    329710            499         223             436         250 X 3   \n",
            "251    330977           2195        1695            1850         500 X 3   \n",
            "\n",
            "                                         Product Title     Coupon Code  \\\n",
            "15                                me Mobile Magic Star  POCAR-CAJCQY8N   \n",
            "21                                            Oppo A96  POCAR-CA34MJY9   \n",
            "35                                        GRESSO Jugnu  POCAR-CA5ZYB7B   \n",
            "36   Ronin Efficient Dual Port Charger R-375 (Micro...  POCAR-CAZ8667W   \n",
            "41   Ronin Efficient Dual Port Charger R-375 (Micro...  POCAR-CA5E3F9U   \n",
            "46                  Infinix XP04 Power Bank (10000mAh)  POCAR-CA8XX248   \n",
            "50                  Infinix XP04 Power Bank (10000mAh)  POCAR-CAQY0OUF   \n",
            "60                  Infinix XP04 Power Bank (10000mAh)  POCAR-CAOGV60K   \n",
            "69     Ronin Efficient Charger R-615 (Micro Usb Cable)  POCAR-CATP1FR6   \n",
            "78                    MI True Wireless Earbuds Basic 2  POCAR-CA1I6RLF   \n",
            "79                    MI True Wireless Earbuds Basic 2  POCAR-CAGMYJDL   \n",
            "95                                me Mobile Magic Star  POCAR-CAJEWWGX   \n",
            "133                                     Nokia 105 2022  POCAR-CA8ZA8NZ   \n",
            "140                                   Xiaomi Redmi 10C  POCAR-CA3VOJY6   \n",
            "146                                          Vivo Y33s  POCAR-CA3KIFKA   \n",
            "154           Mi Ultra Compact Power Bank 3 (10000mAh)  POCAR-CA9WRHPK   \n",
            "161                          Haylou GT1 XR TWS Earbuds  POCAR-CA3SQB5S   \n",
            "162           Infinix Sports Bluetooth Earphone (XE07)  POCAR-CA88H560   \n",
            "163                               me Mobile Magic Star  POCAR-CA727TQQ   \n",
            "166                  Audionic Solo X5 Portable Speaker  POCAR-CA3JWX7K   \n",
            "175                  Audionic Solo X5 Portable Speaker  POCAR-CAFGUUDC   \n",
            "185           Infinix Sports Bluetooth Earphone (XE07)  POCAR-CAUX78SM   \n",
            "186                  Audionic Solo X5 Portable Speaker  POCAR-CA9JSNIF   \n",
            "188                                     itel Value 110  POCAR-CAJ8WIB5   \n",
            "189               Audionic Bluetooth Headphone (B-888)  POCAR-CA0AWVPH   \n",
            "191                  Audionic Solo X5 Portable Speaker  POCAR-CA2FC0HE   \n",
            "194                                     Nokia 105 2022  POCAR-CA1RCZWC   \n",
            "196      Soundpeats True Wireless Earbuds Air 3 Deluxe  POCAR-CAJLT3WT   \n",
            "200              Soundpeats Wireless Earbuds Air 3 Pro  POCAR-CAP9XUBE   \n",
            "204                               me Mobile Magic Star  POCAR-CAYJLO8J   \n",
            "205                    Realme Power Bank 2i (10000mAh)  POCAR-CAT5AOIN   \n",
            "208           Infinix Sports Bluetooth Earphone (XE07)  POCAR-CAZ9NMT0   \n",
            "211                                   Xiaomi Redmi A1+  POCAR-CATQ8M1H   \n",
            "214                                        Realme C25s  POCAR-CAFFQ5DL   \n",
            "222                                  Audionic Airbud 4  POCAR-CAHF3G22   \n",
            "227                               Jazz Digit Energy 4G  POCAR-CACX5Z68   \n",
            "229                                          Nokia G21  POCAR-CAWHODX1   \n",
            "238      Oraimo USB Charger E65S+C53 (Type-C Cable 2A)  POCAR-CADJ50NQ   \n",
            "240                                        Realme C25s  POCAR-CAOAER4H   \n",
            "244                               Jazz Digit E2 PRO 4G  POCAR-CA24Z26G   \n",
            "249      Oraimo USB Charger E65S+C53 (Type-C Cable 2A)  POCAR-CAMOWFUT   \n",
            "251          Ronin Free Style Wireless Neckband (R970)  POCAR-CAJ89YCN   \n",
            "\n",
            "       Consignee Name         Phone     Status  \n",
            "15      Altaf Hussain  923224664300  delivered  \n",
            "21        Sohail Arif  923004626898  delivered  \n",
            "35      Altaf Hussain  923224664300  delivered  \n",
            "36             Farhan  923115040525  delivered  \n",
            "41         Amir abbas  923459717110  delivered  \n",
            "46      Altaf Hussain  923224664300  delivered  \n",
            "50       Jawad Zaheer  923222464586  delivered  \n",
            "60       Jawad Zaheer  923222464586  delivered  \n",
            "69         Amir abbas  923459717110  delivered  \n",
            "78      Noshaiz Amjad  923076636166  delivered  \n",
            "79      Noshaiz Amjad  923076636166  delivered  \n",
            "95      Abdullah Khan  923224538406  delivered  \n",
            "133    Muhammad Athar  923008280240  delivered  \n",
            "140     Usman Tarique  923011122810  delivered  \n",
            "146     Usman Tarique  923011122810  delivered  \n",
            "154     Hammad Shaikh  923313235931  delivered  \n",
            "161      Jawad Zaheer  923222464586  delivered  \n",
            "162      Jawad Zaheer  923222464586  delivered  \n",
            "163    Muhammad Athar  923008280240  delivered  \n",
            "166     Abdullah Khan  923224538406  delivered  \n",
            "175            Farhan  923115040525  delivered  \n",
            "185      Jawad Zaheer  923222464586  delivered  \n",
            "186     Usman Tarique  923011122810  delivered  \n",
            "188      Zohaib Jamil  923464203066  delivered  \n",
            "189  Muhammad Huzaifa  923335526010  delivered  \n",
            "191      Jawad Zaheer  923222464586  delivered  \n",
            "194     Hammad Shaikh  923313235931  delivered  \n",
            "196       Zain Arshad  923212565861  delivered  \n",
            "200       Zain Arshad  923212565861  delivered  \n",
            "204     Shabbir Jafer  923334706017  delivered  \n",
            "205     Shabbir Jafer  923334706017  delivered  \n",
            "208      Zohaib Jamil  923464203066  delivered  \n",
            "211       Sohail Arif  923004626898  delivered  \n",
            "214        syed durak  923333145956  delivered  \n",
            "222  Muhammad Huzaifa  923335526010  delivered  \n",
            "227     Farrukh Jawed  923174288120  delivered  \n",
            "229   Muhammad Shahid  923433441213  delivered  \n",
            "238   Muhammad Shahid  923433441213  delivered  \n",
            "240        syed durak  923333145956  delivered  \n",
            "244     Farrukh Jawed  923174288120  delivered  \n",
            "249        Amir abbas  923459717110  delivered  \n",
            "251      Zohaib Jamil  923464203066  delivered  \n"
          ]
        }
      ]
    },
    {
      "cell_type": "markdown",
      "source": [
        "**Now, Remove Rows from 'Coupon_Count=1' Where 'Phone' is present 'Coupon_Counts>1'**"
      ],
      "metadata": {
        "id": "7xj7_eI6sdHm"
      }
    },
    {
      "cell_type": "code",
      "source": [
        "import pandas as pd\n",
        "import matplotlib.pyplot as plt\n",
        "\n",
        "df1  = pd.read_excel('/content/Coupon_Count_1_on_the_basis_of_loss.xlsx')\n",
        "df2 = pd.read_excel('/content/Coupon_greater_than_1_.xlsx')\n",
        "\n",
        "# Assuming you have loaded the two DataFrames 'Coupon_Count' and 'Repeated_Coupons_Receivers' from your data source\n",
        "\n",
        "# Identify the duplicate 'Phone' values in 'Repeated_Coupons_Receivers'\n",
        "duplicate_phones = df2['Phone']\n",
        "\n",
        "# Filter 'Coupon_Count' to keep only rows where 'Phone' is not in 'duplicate_phones'\n",
        "Coupon_Count = df1[~df1['Phone'].isin(duplicate_phones)]\n",
        "print(Coupon_Count.value_counts())\n",
        "print(plt.hist(duplicate_phones))\n",
        "\n",
        "# Now, 'Coupon_Count' will contain only the rows where 'Phone' is not a duplicate in 'Repeated_Coupons_Receivers'\n",
        "Coupon_Count.to_excel('/content/coupon_count(1)_on_the_basis_of_loss.xlsx', index = False)"
      ],
      "metadata": {
        "id": "JLpFxy3jZTCm",
        "colab": {
          "base_uri": "https://localhost:8080/",
          "height": 758
        },
        "outputId": "684a1cb7-e27d-4c92-d164-0ee2587279d3"
      },
      "execution_count": 8,
      "outputs": [
        {
          "output_type": "stream",
          "name": "stdout",
          "text": [
            "Order ID  Product Value  COD Amount  Purchase Price  Coupon Discount  Product Title                     Coupon Code     Consignee Name   Phone         Status   \n",
            "188106    5399           4899        5200            250              MI Band 6                         POCAR-CAB1K7EZ  Azim Arif        923015628046  delivered    1\n",
            "265863    1749           1249        1550            500              Mi Type-C Charger (20W)           POCAR-CA66U59X  Abdul Qadoos     923325779002  delivered    1\n",
            "267695    6099           5599        5837            500              Oraimo FreePods 3                 POCAR-CAD6FKWL  Saad Mansoor     923222249347  delivered    1\n",
            "268029    2999           2499        2650            500              MI True Wireless Earbuds Basic 2  POCAR-CAFY0REL  Umair Younas     923044149542  delivered    1\n",
            "268162    2399           1899        2250            500              Letscom TWS Earbuds T30           POCAR-CACPFPOY  Hina Lodhi       923425462733  delivered    1\n",
            "                                                                                                                                                                   ..\n",
            "232466    2399           1899        2000            500              VGO TEL i101                      POCAR-CASYOJBI  Muhammad Ismail  923369151675  delivered    1\n",
            "234743    25699          25449       25505           250              Nokia G21                         OCM-DGEPDN      Ali Hassan       923493332335  delivered    1\n",
            "235029    2150           1650        1850            500              Letscom TWS Earbuds D32           POCAR-CAY7JFLG  Yasir Raza       923218393676  delivered    1\n",
            "235231    1549           1049        1350            500              Mi Usb Type-C to Type-C Cable     POCAR-CALG2L61  Rana Suhaib      923005399711  delivered    1\n",
            "331496    1999           1749        1800            250              Mi Dual Port Car Charger (37W)    POCAR-CAF9UU0B  Muhammad Hassan  923448001954  delivered    1\n",
            "Length: 212, dtype: int64\n",
            "(array([4., 1., 1., 1., 4., 0., 1., 3., 0., 3.]), array([9.23004627e+11, 9.23050585e+11, 9.23096542e+11, 9.23142500e+11,\n",
            "       9.23188457e+11, 9.23234415e+11, 9.23280373e+11, 9.23326330e+11,\n",
            "       9.23372288e+11, 9.23418245e+11, 9.23464203e+11]), <BarContainer object of 10 artists>)\n"
          ]
        },
        {
          "output_type": "display_data",
          "data": {
            "text/plain": [
              "<Figure size 640x480 with 1 Axes>"
            ],
            "image/png": "[encoded data removed]"
          },
          "metadata": {}
        }
      ]
    },
    {
      "cell_type": "code",
      "source": [],
      "metadata": {
        "id": "EVVxFojhu7sv"
      },
      "execution_count": null,
      "outputs": []
    }
  ]
}