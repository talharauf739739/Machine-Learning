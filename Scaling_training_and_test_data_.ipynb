{
  "nbformat": 4,
  "nbformat_minor": 0,
  "metadata": {
    "colab": {
      "name": "Scaling training and test data .ipynb",
      "provenance": []
    },
    "kernelspec": {
      "name": "python3",
      "display_name": "Python 3"
    },
    "language_info": {
      "name": "python"
    }
  },
  "cells": [
    {
      "cell_type": "markdown",
      "metadata": {
        "id": "0aiSV0o78UOp"
      },
      "source": [
        "It is important that exactly the same transformation is applied to the training set and\n",
        "the test set for the supervised model to make sense on the test set. The following fig‐\n",
        "ure illustrates what would happen if we would use the minimum and range of the test\n",
        "set instead:"
      ]
    },
    {
      "cell_type": "code",
      "metadata": {
        "id": "z0asjk1C8VVd"
      },
      "source": [
        "from sklearn.datasets import make_blobs\n",
        "# make synthetic data"
      ],
      "execution_count": 12,
      "outputs": []
    },
    {
      "cell_type": "markdown",
      "metadata": {
        "id": "VUaRIIbB8ulE"
      },
      "source": [
        "**Unsupervised Learning and Preprocessing**"
      ]
    },
    {
      "cell_type": "code",
      "metadata": {
        "id": "OfrI7q8H8rOH"
      },
      "source": [
        "X, _ = make_blobs(n_samples=50, centers=5, random_state=4, cluster_std=2)"
      ],
      "execution_count": 13,
      "outputs": []
    },
    {
      "cell_type": "markdown",
      "metadata": {
        "id": "JRR13mmo9MLZ"
      },
      "source": [
        "split it into training and test set"
      ]
    },
    {
      "cell_type": "code",
      "metadata": {
        "id": "ZOoSZyFf83FU"
      },
      "source": [
        "# split it into training and test set\n",
        "from sklearn.model_selection import train_test_split\n",
        "X_train, X_test = train_test_split(X, random_state=5, test_size=.1)"
      ],
      "execution_count": 14,
      "outputs": []
    },
    {
      "cell_type": "markdown",
      "metadata": {
        "id": "QbBMTI0X9PSI"
      },
      "source": [
        "plot the training and test set"
      ]
    },
    {
      "cell_type": "code",
      "metadata": {
        "colab": {
          "base_uri": "https://localhost:8080/",
          "height": 299
        },
        "id": "Ud_zwWJG84Ws",
        "outputId": "cb100b64-871a-45b2-e083-023f40e5d000"
      },
      "source": [
        "# plot the training and test set\n",
        "import matplotlib.pyplot as plt\n",
        "fig, axes = plt.subplots(1, 3, figsize=(13, 4))\n",
        "axes[0].scatter(X_train[:, 0], X_train[:, 1],\n",
        " c='b', label=\"training set\", s=60)\n",
        "axes[0].scatter(X_test[:, 0], X_test[:, 1], marker='^',\n",
        " c='r', label=\"test set\", s=60)\n",
        "axes[0].legend(loc='upper left')\n",
        "axes[0].set_title(\"original data\")\n",
        "\n",
        "\n",
        "# scale the data using MinMaxScaler\n",
        "from sklearn.preprocessing import MinMaxScaler\n",
        "scaler = MinMaxScaler()\n",
        "scaler.fit(X_train)\n",
        "X_train_scaled = scaler.transform(X_train)\n",
        "X_test_scaled = scaler.transform(X_test)\n",
        "\n",
        "\n",
        "# visualize the properly scaled data\n",
        "axes[1].scatter(X_train_scaled[:, 0], X_train_scaled[:, 1],\n",
        " c='b', label=\"training set\", s=60)\n",
        "axes[1].scatter(X_test_scaled[:, 0], X_test_scaled[:, 1], marker='^',\n",
        " c='r', label=\"test set\", s=60)\n",
        "axes[1].set_title(\"scaled data\")\n",
        "\n",
        "\n",
        "# rescale the test set separately, so that test set min is 0 and test set max is 1\n",
        "test_scaler = MinMaxScaler()\n",
        "test_scaler.fit(X_test)\n",
        "X_test_scaled_badly = test_scaler.transform(X_test)\n",
        "\n",
        "\n",
        "# visualize wrongly scaled data\n",
        "axes[2].scatter(X_train_scaled[:, 0], X_train_scaled[:, 1],\n",
        " c='b', label=\"training set\", s=60)\n",
        "axes[2].scatter(X_test_scaled_badly[:, 0], X_test_scaled_badly[:, 1], marker='^',\n",
        " c='r', label=\"test set\", s=60)\n",
        "axes[2].set_title(\"improperly scaled data\")"
      ],
      "execution_count": 15,
      "outputs": [
        {
          "output_type": "execute_result",
          "data": {
            "text/plain": [
              "Text(0.5, 1.0, 'improperly scaled data')"
            ]
          },
          "metadata": {},
          "execution_count": 15
        },
        {
          "output_type": "display_data",
          "data": {
            "image/png": "[encoded data removed]",
            "text/plain": [
              "<Figure size 936x288 with 3 Axes>"
            ]
          },
          "metadata": {
            "needs_background": "light"
          }
        }
      ]
    },
    {
      "cell_type": "markdown",
      "metadata": {
        "id": "rgAf3WYe9Rat"
      },
      "source": [
        "scale the data using MinMaxScaler"
      ]
    },
    {
      "cell_type": "code",
      "metadata": {
        "id": "cJc17NhA88Ei"
      },
      "source": [
        "# scale the data using MinMaxScaler\n",
        "from sklearn.preprocessing import MinMaxScaler\n",
        "scaler = MinMaxScaler()\n",
        "scaler.fit(X_train)\n",
        "X_train_scaled = scaler.transform(X_train)\n",
        "X_test_scaled = scaler.transform(X_test)\n",
        "\n"
      ],
      "execution_count": 16,
      "outputs": []
    },
    {
      "cell_type": "markdown",
      "metadata": {
        "id": "CoUfZS3J9ZsN"
      },
      "source": [
        "visualize the properly scaled data"
      ]
    },
    {
      "cell_type": "code",
      "metadata": {
        "colab": {
          "base_uri": "https://localhost:8080/"
        },
        "id": "4_dlr_zv9WoO",
        "outputId": "35a56d56-94df-40ef-8e7b-7ed47fb25c56"
      },
      "source": [
        "# visualize the properly scaled data\n",
        "axes[1].scatter(X_train_scaled[:, 0], X_train_scaled[:, 1],\n",
        " c='b', label=\"training set\", s=60)\n",
        "axes[1].scatter(X_test_scaled[:, 0], X_test_scaled[:, 1], marker='^',\n",
        " c='r', label=\"test set\", s=60)\n",
        "axes[1].set_title(\"scaled data\")"
      ],
      "execution_count": 17,
      "outputs": [
        {
          "output_type": "execute_result",
          "data": {
            "text/plain": [
              "Text(0.5, 1.0, 'scaled data')"
            ]
          },
          "metadata": {},
          "execution_count": 17
        }
      ]
    },
    {
      "cell_type": "markdown",
      "metadata": {
        "id": "kUhXwSK_9chC"
      },
      "source": [
        "rescale the test set separately, so that test set min is 0 and test set max is 1"
      ]
    },
    {
      "cell_type": "code",
      "metadata": {
        "id": "sKQB4u2x9Eh5"
      },
      "source": [
        "# rescale the test set separately, so that test set min is 0 and test set max is 1\n",
        "\n",
        "test_scaler = MinMaxScaler()\n",
        "test_scaler.fit(X_test)\n",
        "X_test_scaled_badly = test_scaler.transform(X_test)"
      ],
      "execution_count": 18,
      "outputs": []
    },
    {
      "cell_type": "markdown",
      "metadata": {
        "id": "zwQYLXL59eiE"
      },
      "source": [
        "visualize wrongly scaled data"
      ]
    },
    {
      "cell_type": "code",
      "metadata": {
        "colab": {
          "base_uri": "https://localhost:8080/"
        },
        "id": "NJ_vZdWG9HQk",
        "outputId": "494b1d68-3b83-494f-8521-4f4a86788b8c"
      },
      "source": [
        "# visualize wrongly scaled data\n",
        "axes[2].scatter(X_train_scaled[:, 0], X_train_scaled[:, 1],\n",
        " c='b', label=\"training set\", s=60)\n",
        "axes[2].scatter(X_test_scaled_badly[:, 0], X_test_scaled_badly[:, 1], marker='^',\n",
        " c='r', label=\"test set\", s=60)\n",
        "axes[2].set_title(\"improperly scaled data\")"
      ],
      "execution_count": 19,
      "outputs": [
        {
          "output_type": "execute_result",
          "data": {
            "text/plain": [
              "Text(0.5, 1.0, 'improperly scaled data')"
            ]
          },
          "metadata": {},
          "execution_count": 19
        }
      ]
    },
    {
      "cell_type": "code",
      "metadata": {
        "id": "iO3S74Vb-veU"
      },
      "source": [
        ""
      ],
      "execution_count": 19,
      "outputs": []
    }
  ]
}