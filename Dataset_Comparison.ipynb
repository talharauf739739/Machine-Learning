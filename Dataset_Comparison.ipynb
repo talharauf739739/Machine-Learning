{
  "nbformat": 4,
  "nbformat_minor": 0,
  "metadata": {
    "colab": {
      "provenance": []
    },
    "kernelspec": {
      "name": "python3",
      "display_name": "Python 3"
    },
    "language_info": {
      "name": "python"
    }
  },
  "cells": [
    {
      "cell_type": "code",
      "execution_count": null,
      "metadata": {
        "colab": {
          "base_uri": "https://localhost:8080/"
        },
        "id": "nuD5REq3WW71",
        "outputId": "2acf4b38-c0e4-45d1-b380-dfb5554a58d6"
      },
      "outputs": [
        {
          "output_type": "stream",
          "name": "stdout",
          "text": [
            "    Transaction ID  Source     Medium  order_id        fullname  \\\n",
            "0          1114792  tiktok   referral   1114792          Yousif   \n",
            "1          1114154  tiktok   referral   1114154      Farhad Ali   \n",
            "2          1114148  tiktok   referral   1114148          RAHEEL   \n",
            "3          1113766  tiktok   referral   1113766    Junaid malik   \n",
            "4          1113758  tiktok   referral   1113758        Syedshah   \n",
            "..             ...     ...        ...       ...             ...   \n",
            "212        1062274  tiktok  (not set)   1062274          Shariq   \n",
            "213        1060926  tiktok   referral   1060926   Ayesha Kashif   \n",
            "214        1060516  tiktok  (not set)   1060516  Muhammad Usman   \n",
            "215        1060409  tiktok  (not set)   1060409   Saima Noureen   \n",
            "216        1059346  tiktok  (not set)   1059346            Fida   \n",
            "\n",
            "                cnic                       product_title  price  \\\n",
            "0                NaN           Dany Airdots 220 Pro Plus   3899   \n",
            "1                NaN              X15 TWS Gaming Earbuds   1649   \n",
            "2                NaN      Air 31 TWS Transparent Earbuds   1199   \n",
            "3                NaN  M10 TWS Wireless Bluetooth Earbuds    999   \n",
            "4                NaN            M28 TWS Wireless Earbuds   1179   \n",
            "..               ...                                 ...    ...   \n",
            "212              NaN                   Mibro Watch Lite2  11999   \n",
            "213              NaN                Jazz Digit E2 Pro 4G   6899   \n",
            "214  42201-5654795-7            Xiaomi Redmi Note 13 Pro  64999   \n",
            "215              NaN  M10 TWS Wireless Bluetooth Earbuds    999   \n",
            "216              NaN                           Vivo Y17s  34999   \n",
            "\n",
            "                           city     status  \n",
            "0                      D.G Khan  delivered  \n",
            "1                   Sheikhupura   returned  \n",
            "2                      Kot Addu   returned  \n",
            "3                       Sialkot  delivered  \n",
            "4                         Matta  delivered  \n",
            "..                          ...        ...  \n",
            "212                  Gujranwala  delivered  \n",
            "213   Karachi - M.A Jinnah Road  delivered  \n",
            "214  Karachi - Gulistan-e-Johar  delivered  \n",
            "215              Pindi Bhattian  delivered  \n",
            "216                     Khanpur  delivered  \n",
            "\n",
            "[217 rows x 10 columns]\n"
          ]
        }
      ],
      "source": [
        "import pandas as pd\n",
        "\n",
        "# Read the CSV files into dataframes\n",
        "df1 = pd.read_excel('/content/May_Medium.xlsx')\n",
        "df2 = pd.read_excel('/content/May_Po_Dump.xlsx')\n",
        "\n",
        "# Perform an inner join on the specified columns\n",
        "# This will only include rows where the 'Transaction ID' in df1 matches 'order_id' in df2\n",
        "merged_df = pd.merge(df1, df2, left_on='Transaction ID', right_on='order_id', how='inner')\n",
        "\n",
        "# Save the merged dataframe to a new CSV file\n",
        "merged_df.to_excel('/content/tiktok_may.xlsx', index=False)\n",
        "\n",
        "# Display the merged dataframe\n",
        "print(merged_df)\n"
      ]
    },
    {
      "cell_type": "code",
      "source": [],
      "metadata": {
        "id": "wrhjIqhjb8SX"
      },
      "execution_count": null,
      "outputs": []
    }
  ]
}