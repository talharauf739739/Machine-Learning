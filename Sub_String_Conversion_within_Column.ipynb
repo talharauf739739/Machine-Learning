{
  "nbformat": 4,
  "nbformat_minor": 0,
  "metadata": {
    "colab": {
      "provenance": []
    },
    "kernelspec": {
      "name": "python3",
      "display_name": "Python 3"
    },
    "language_info": {
      "name": "python"
    }
  },
  "cells": [
    {
      "cell_type": "code",
      "execution_count": null,
      "metadata": {
        "colab": {
          "base_uri": "https://localhost:8080/"
        },
        "id": "RGUd3qVPb6Cg",
        "outputId": "2ac8b1cf-968d-4fa4-ab5e-62b0589d4a8e"
      },
      "outputs": [
        {
          "output_type": "stream",
          "name": "stdout",
          "text": [
            "Original: H 233 St 27 --> Updated: House 233 Street 27\n",
            "Original: Some text with H and St --> Updated: Some text with House and Street\n",
            "Original: Another H example --> Updated: Another House example\n",
            "Original: St is here --> Updated: Street is here\n"
          ]
        }
      ],
      "source": [
        "import re\n",
        "\n",
        "# Sample data\n",
        "data = ['H 233 St 27', 'Some text with H and St', 'Another H example', 'St is here']\n",
        "\n",
        "# Define the replacements\n",
        "replacements = {\n",
        "    r'\\bH\\b': 'House',\n",
        "    r'\\bh\\b': 'house',\n",
        "    r'\\bst\\b': 'Street',\n",
        "    r'\\bSt\\b': 'Street'\n",
        "}\n",
        "\n",
        "# Function to perform replacements\n",
        "def replace_words(text):\n",
        "    for pattern, replacement in replacements.items():\n",
        "        text = re.sub(pattern, replacement, text)\n",
        "    return text\n",
        "\n",
        "# Apply replacements to each string in the data\n",
        "updated_data = [replace_words(text) for text in data]\n",
        "\n",
        "# Print the updated data\n",
        "for original, updated in zip(data, updated_data):\n",
        "    print(f\"Original: {original} --> Updated: {updated}\")\n"
      ]
    },
    {
      "cell_type": "code",
      "source": [
        "import re\n",
        "import pandas as pd\n",
        "\n",
        "# Read the Excel file into a DataFrame\n",
        "data = pd.read_excel('/content/15_8_23(Sheet).xlsx')\n",
        "\n",
        "\n"
      ],
      "metadata": {
        "id": "aUocP64fXRNz"
      },
      "execution_count": null,
      "outputs": []
    },
    {
      "cell_type": "code",
      "source": [
        "# Extract the 'address' column\n",
        "data_address = data['address']\n",
        "\n",
        "# Define the replacements\n",
        "replacements = {\n",
        "    r'\\bH\\b': 'House',\n",
        "    r'\\bh\\b': 'house',\n",
        "    r'\\bst\\b': 'Street',\n",
        "    r'\\bSt\\b': 'Street',\n",
        "    r'\\bST\\b': 'Street'\n",
        "}\n",
        "\n"
      ],
      "metadata": {
        "id": "Ga3dhFyiaUzR"
      },
      "execution_count": null,
      "outputs": []
    },
    {
      "cell_type": "code",
      "source": [
        "# Function to perform replacements\n",
        "def replace_words(text):\n",
        "    if isinstance(text, str):  # Check if the input is a string\n",
        "        for pattern, replacement in replacements.items():\n",
        "            text = re.sub(pattern, replacement, text)\n",
        "        return text\n",
        "    else:\n",
        "        return text  # Return unchanged if not a string\n",
        "\n"
      ],
      "metadata": {
        "id": "lODD2gK7dJm5"
      },
      "execution_count": null,
      "outputs": []
    },
    {
      "cell_type": "code",
      "source": [
        "# Apply replacements to each string in the 'address' column\n",
        "updated_data = [replace_words(text) for text in data_address]\n",
        "\n",
        "# Add the 'updated_address' column to the DataFrame\n",
        "data['updated_address'] = updated_data\n",
        "\n",
        "# Save the DataFrame to a new Excel file\n",
        "data.to_excel('/content/Sub_String_Conversion_Updated.xlsx', index=False)\n",
        "\n",
        "# Print the first few rows of the updated DataFrame\n",
        "print(data.head())"
      ],
      "metadata": {
        "colab": {
          "base_uri": "https://localhost:8080/"
        },
        "id": "6lTm0Xsvabed",
        "outputId": "4d98f9eb-618b-4ec8-9d84-585ecf16c801"
      },
      "execution_count": null,
      "outputs": [
        {
          "output_type": "stream",
          "name": "stdout",
          "text": [
            "                                    address                      area  \\\n",
            "0                        H E 863 Fatihabad   Cavalry Ground Extension   \n",
            "1  Cavalry ground street 1 villa 1A NA Home  Cavalry Ground Extension   \n",
            "2         House No 152A Street No 6 Block A             Nishat Colony   \n",
            "3        House no E96d Ali lane street no 7  Cavalry Ground Extension   \n",
            "4       House no E96d Ali lane street no 7   Cavalry Ground Extension   \n",
            "\n",
            "            city     status  Result                           updated_address  \n",
            "0  Lahore  Cantt  delivered       0                    House E 863 Fatihabad   \n",
            "1  Lahore  Cantt  delivered       0  Cavalry ground street 1 villa 1A NA Home  \n",
            "2  Lahore  Cantt  delivered       0         House No 152A Street No 6 Block A  \n",
            "3  Lahore  Cantt  delivered       0        House no E96d Ali lane street no 7  \n",
            "4  Lahore  Cantt  delivered       0       House no E96d Ali lane street no 7   \n"
          ]
        }
      ]
    }
  ]
}