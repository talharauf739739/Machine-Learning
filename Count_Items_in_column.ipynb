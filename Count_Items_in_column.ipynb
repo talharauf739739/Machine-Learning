{
  "nbformat": 4,
  "nbformat_minor": 0,
  "metadata": {
    "colab": {
      "provenance": []
    },
    "kernelspec": {
      "name": "python3",
      "display_name": "Python 3"
    },
    "language_info": {
      "name": "python"
    }
  },
  "cells": [
    {
      "cell_type": "code",
      "execution_count": null,
      "metadata": {
        "colab": {
          "base_uri": "https://localhost:8080/"
        },
        "id": "sjTTpG_z57oO",
        "outputId": "3ab453a3-3e95-4f4b-a4ce-ebb378e7a729"
      },
      "outputs": [
        {
          "output_type": "stream",
          "name": "stdout",
          "text": [
            "Unique items: ['M90 Pro TWS Gaming Earbuds' 'M10 TWS Wireless Bluetooth Earbuds'\n",
            " 'Air 31 TWS Transparent Earbuds' 'KD99 Bluetooth Calling Smartwatch'\n",
            " 'Aukey TWS Wireless Earbuds (EP-M1S)' 'Mibro Watch Lite2'\n",
            " 'T800 Ultra Smart Watch' 'X8 Ultra Bluetooth Calling Watch'\n",
            " 'Redmi Buds 4 Lite' 'T500 Smart Watch' 'Redmi Buds 3 Lite'\n",
            " 'Soundpeats True Capsule 3 Pro Earbuds' 'Apple Logo Watch 8 Ultra'\n",
            " 'Airdopes 141 Wireless Earbud' 'i8 Pro Max Smart Watch (44mm)'\n",
            " 'M30 TWS Wireless Earbuds' 'Ultra 8 Smart Watch Series 8 With Earbuds'\n",
            " 'Lenovo HE05X Neckband Wireless' 'M19 True Wireless Earbuds'\n",
            " 'Soundpeats Mini Pro HS Wireless Earbuds'\n",
            " 'WS99 Ultra Smart Watch With Three Straps' 'M38 Wireless Gaming Earbuds'\n",
            " 'M28 TWS Wireless Earbuds' 'Y8 Ultra Smart Watch'\n",
            " 'T9 Vintage professional Trimmer' 'i9 Ultra Max Smart Watch'\n",
            " 'Mi Ultra Compact Power Bank 3 (10000mAh)'\n",
            " 'itel Wireless Earbuds (KT-01)'\n",
            " 'Soundpeats True Wireless Earbuds Free 2 Classic'\n",
            " 'Itel Bluetooth Calling Smart Watch 1' 'Realme Buds Air 2 Neo'\n",
            " 'EW08 Ultra Smart Watch' 'M90 Max TWS Wireless Earbuds'\n",
            " 'Samsung Galaxy Watch 5 Bluetooth 40mm (R-900)' 'M88 Plus Tws Earbuds'\n",
            " 'T900 Ultra Smart Watch' 'M25 Gaming Wireless Earbuds'\n",
            " 'M32 TWS Wireless Bluetooth Earbuds' 'M20 TWS Wireless Bluetooth Earbuds'\n",
            " 'X9 Unique Combination Smart Watch With Airpods Pro 2'\n",
            " 'Airs Pro TWS Bluetooth Earbuds' 'M29 Pro TWS Gaming Earbuds'\n",
            " 'Airox Fast Charging Supported PD Power Bank AR-989 (10000mAh)'\n",
            " 'D18 Smart Watch' 'MI True Wireless Earbuds Basic 2' 'OPPO Band Style'\n",
            " 'i12 Tws Touch Sensor Airpods' 'Lenovo LP40 Pro True Wireless Earbuds'\n",
            " 'Soundpeats Life ANC Wireless Earbuds' 'Haino Teko RW 10 Smart Watch'\n",
            " 'Samsung Galaxy 10000mAh Power Bank (P3400)' 'I8 Ultra Max Smart Watch'\n",
            " 'XS8 Pro Ultra Smart Watch'\n",
            " 'Dinglong Professional Beard And Hair Trimmer RF-609'\n",
            " 'Soundpeats Air4 Wireless Earbuds' 'M16 Smart Watch'\n",
            " 'Mibro T1 Smart Watch' 'Haino Teko RW-35 Smart Watch'\n",
            " 'H12 Ultra Smart Watch With 7 Straps'\n",
            " 'Portable True Wireless Earbuds (YD03)' 'i15 Tws Bluetooth Earphones'\n",
            " 'Yookie Type-C to Type-C Charging Cable (CB31)'\n",
            " 'Amgras Future IV Pro Transparent Earphones'\n",
            " 'Anker Soundcore Neckband R500'\n",
            " 'P47 Wireless Bluetooth Stereo Headphones'\n",
            " 'M41 Wireless Earbuds Stereo Sound' 'I7 Pro 44mm Smart Watch'\n",
            " 'HK9 ULTRA2 Gen2 Smartwatch' 'Mpow M12 Wireless Earbuds'\n",
            " 'M66 TWS Gaming Wireless Earbuds' 'TS8 Ultra Smart Watch'\n",
            " 'Yolo Play YJP-201 Bluetooth Wireless Speaker'\n",
            " 'N35 Gaming Wireless Earbuds'\n",
            " 'Airox Quick Charging Power Bank AR-209 (30000mAh)'\n",
            " 'Samsung 2 Pin 25W PD Adapter (USB C)' 'Sound Crush M7 Bluetooth Speaker'\n",
            " 'Redmi AirDots 2' 'Redmi Buds 4 Active' 'itel Wireless Earbuds (T3)'\n",
            " 'Audionic Airbud 4' 'Joyroom Airpods Pro (JR-T03S Pro)'\n",
            " 'LOGIN Gaming Earbuds (LT-BT50)' 'S8 Ultra Smart Watch'\n",
            " 'Samsung Galaxy Watch 4 Classic Bluetooth 46mm (R890)'\n",
            " 'M7 pro smart watch' 'Fendior S100 Ultra Smart Watch 7in1'\n",
            " 'Oraimo Roll Wireless Earbuds' 'Realme Buds Air 2'\n",
            " 'Ronin R-520 Wireless Earbuds' 'I7S Bluetooth Wireless Earbuds'\n",
            " 'Airox NB 51 Neck Band' 'Z66 Ultra Bluetooth Calling Watch'\n",
            " 'Redmi Buds 4' 'Redmi Buds Essential' 'T10 Ultra Bluetooth Calling Watch'\n",
            " 'Lenovo XT92 TWS Wireless Earbuds'\n",
            " 'Joyroom Mini Magnetic Wireless Power Bank JR-QP196 30000mAh'\n",
            " 'Samsung Galaxy Buds 2']\n",
            "\n",
            "Count of each item:\n",
            "M90 Pro TWS Gaming Earbuds                   148\n",
            "M10 TWS Wireless Bluetooth Earbuds            45\n",
            "M30 TWS Wireless Earbuds                      37\n",
            "M28 TWS Wireless Earbuds                      34\n",
            "T900 Ultra Smart Watch                        22\n",
            "                                            ... \n",
            "P47 Wireless Bluetooth Stereo Headphones       1\n",
            "Ultra 8 Smart Watch Series 8 With Earbuds      1\n",
            "I7 Pro 44mm Smart Watch                        1\n",
            "HK9 ULTRA2 Gen2 Smartwatch                     1\n",
            "Haino Teko RW 10 Smart Watch                   1\n",
            "Name: Product, Length: 98, dtype: int64\n"
          ]
        }
      ],
      "source": [
        "import pandas as pd\n",
        "\n",
        "\n",
        "\n",
        "df = pd.read_excel('/content/janat.xlsx')\n",
        "\n",
        "# Extract unique items from the column\n",
        "unique_items = df['Product'].unique()\n",
        "\n",
        "# Count occurrences of each unique item\n",
        "item_counts = df['Product'].value_counts()\n",
        "\n",
        "print(\"Unique items:\", unique_items)\n",
        "print(\"\\nCount of each item:\")\n",
        "print(item_counts)\n",
        "item_counts.to_excel('/content/Item_Count.xlsx', index = False)"
      ]
    },
    {
      "cell_type": "code",
      "source": [],
      "metadata": {
        "id": "Yi1uZmOd6TW7"
      },
      "execution_count": null,
      "outputs": []
    }
  ]
}