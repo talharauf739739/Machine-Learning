{
  "nbformat": 4,
  "nbformat_minor": 0,
  "metadata": {
    "colab": {
      "name": "Signal Signs Detection Using NN.ipynb",
      "provenance": [],
      "collapsed_sections": []
    },
    "kernelspec": {
      "name": "python3",
      "display_name": "Python 3"
    },
    "language_info": {
      "name": "python"
    }
  },
  "cells": [
    {
      "cell_type": "code",
      "execution_count": 1,
      "metadata": {
        "colab": {
          "base_uri": "https://localhost:8080/",
          "height": 0
        },
        "id": "fxBRy-bSCkhy",
        "outputId": "e0f13a50-9642-4f03-ad3b-00c6fc186677"
      },
      "outputs": [
        {
          "output_type": "stream",
          "name": "stdout",
          "text": [
            "Requirement already satisfied: opencv-python in /usr/local/lib/python3.7/dist-packages (4.1.2.30)\n",
            "Requirement already satisfied: numpy>=1.14.5 in /usr/local/lib/python3.7/dist-packages (from opencv-python) (1.21.5)\n"
          ]
        }
      ],
      "source": [
        "!pip install opencv-python"
      ]
    },
    {
      "cell_type": "markdown",
      "source": [
        "**Importing Libraries**"
      ],
      "metadata": {
        "id": "jltq-tK4FY-g"
      }
    },
    {
      "cell_type": "code",
      "source": [
        "import os\n",
        "import cv2\n",
        "import matplotlib.pyplot as plt\n",
        "import tensorflow as tf\n",
        "import numpy as np\n",
        "from tensorflow.keras.optimizers import RMSprop\n",
        "from tensorflow.keras.preprocessing import image\n",
        "from tensorflow.keras.preprocessing.image import ImageDataGenerator"
      ],
      "metadata": {
        "id": "Hz9Z5p5NC63K"
      },
      "execution_count": 2,
      "outputs": []
    },
    {
      "cell_type": "markdown",
      "source": [
        "**Get the dataset by unziping the data folder**"
      ],
      "metadata": {
        "id": "77yyeBFzF5OP"
      }
    },
    {
      "cell_type": "code",
      "source": [
        "#!unzip -q /content/Task3.zip -d ../"
      ],
      "metadata": {
        "id": "Tyy0cBUlF4RV"
      },
      "execution_count": 3,
      "outputs": []
    },
    {
      "cell_type": "markdown",
      "source": [
        "**Generate Training and Validation DataSet By use of ImageDataGenerator**"
      ],
      "metadata": {
        "id": "iYZ_KORoGpX-"
      }
    },
    {
      "cell_type": "code",
      "source": [
        "# Firstly, Change Images Pixel values b/w 0->1, We also Call it Scaling\n",
        "train = ImageDataGenerator(rescale = 1/255)\n",
        "validation = ImageDataGenerator(rescale = 1/255)\n",
        "\n",
        "\n",
        "#Generating Labels from your Directories\n",
        "train_dataset = train.flow_from_directory('/content/drive/MyDrive/Task3/Train',\n",
        "                                          target_size = (256,256),\n",
        "                                          batch_size = 5,\n",
        "                                          class_mode = 'categorical')\n",
        "\n",
        "validation_dataset = train.flow_from_directory('/content/drive/MyDrive/Task3/Validation',\n",
        "                                          target_size = (256,256),\n",
        "                                          batch_size = 5,\n",
        "                                          class_mode = 'categorical')"
      ],
      "metadata": {
        "colab": {
          "base_uri": "https://localhost:8080/",
          "height": 0
        },
        "id": "nISfIYGFDK3C",
        "outputId": "ac0cdf21-0da2-4de6-8750-9c657232ed43"
      },
      "execution_count": 4,
      "outputs": [
        {
          "output_type": "stream",
          "name": "stdout",
          "text": [
            "Found 350 images belonging to 7 classes.\n",
            "Found 70 images belonging to 7 classes.\n"
          ]
        }
      ]
    },
    {
      "cell_type": "code",
      "source": [
        "train_dataset.class_indices"
      ],
      "metadata": {
        "colab": {
          "base_uri": "https://localhost:8080/",
          "height": 0
        },
        "id": "E_oGt7oPKdRB",
        "outputId": "7b70b170-9441-47de-b592-8931ef366797"
      },
      "execution_count": 5,
      "outputs": [
        {
          "output_type": "execute_result",
          "data": {
            "text/plain": [
              "{'Do Not Enter': 0,\n",
              " 'Information': 1,\n",
              " 'Left Turn': 2,\n",
              " 'Object Marker': 3,\n",
              " 'School': 4,\n",
              " 'Speed Limit': 5,\n",
              " 'Stop': 6}"
            ]
          },
          "metadata": {},
          "execution_count": 5
        }
      ]
    },
    {
      "cell_type": "markdown",
      "source": [
        "**Defining a Model**"
      ],
      "metadata": {
        "id": "AJgP34nlOp0g"
      }
    },
    {
      "cell_type": "code",
      "source": [
        "model = tf.keras.models.Sequential([tf.keras.layers.Conv2D(16,(3,3), activation= 'relu', input_shape = (256,256,3)),\n",
        "                                    tf.keras.layers.MaxPool2D(2,2),\n",
        "                                    #\n",
        "                                    tf.keras.layers.Conv2D(32,(3,3), activation= 'relu'),\n",
        "                                    tf.keras.layers.MaxPool2D(2,2),\n",
        "                                    #\n",
        "                                    tf.keras.layers.Conv2D(128,(3,3), activation= 'relu'),\n",
        "                                    tf.keras.layers.MaxPool2D(2,2),\n",
        "                                    #\n",
        "                                    tf.keras.layers.Conv2D(256,(3,3), activation= 'relu'),\n",
        "                                    tf.keras.layers.MaxPool2D(2,2),\n",
        "                                    #\n",
        "                                    tf.keras.layers.Flatten(),\n",
        "                                    #\n",
        "                                    tf.keras.layers.Dense(512, activation = 'relu'),\n",
        "                                    #\n",
        "                                    tf.keras.layers.Dense(1, activation = 'Softmax')\n",
        "                                    ])"
      ],
      "metadata": {
        "id": "6G1viioFOXBB"
      },
      "execution_count": 6,
      "outputs": []
    },
    {
      "cell_type": "markdown",
      "source": [
        "**Compilation Of Model**"
      ],
      "metadata": {
        "id": "YsLPJ1f6V9Hm"
      }
    },
    {
      "cell_type": "code",
      "source": [
        "model.compile(loss = 'categorical_crossentropy',\n",
        "              optimizer = RMSprop(learning_rate = 0.001),\n",
        "              metrics = ['accuracy'])"
      ],
      "metadata": {
        "id": "xpNtHIgeV8NG"
      },
      "execution_count": 7,
      "outputs": []
    },
    {
      "cell_type": "markdown",
      "source": [
        "**Fitting the Model**"
      ],
      "metadata": {
        "id": "gHMruJQFYDVB"
      }
    },
    {
      "cell_type": "code",
      "source": [
        "model_fit = model.fit(train_dataset,\n",
        "                      #steps_per_epoch = 3,\n",
        "                      epochs = 6,\n",
        "                      validation_data = validation_dataset)"
      ],
      "metadata": {
        "colab": {
          "base_uri": "https://localhost:8080/",
          "height": 0
        },
        "id": "Mmn45OY7V31F",
        "outputId": "a97d1273-d14f-44fe-e56c-ca83f52c909d"
      },
      "execution_count": 9,
      "outputs": [
        {
          "output_type": "stream",
          "name": "stdout",
          "text": [
            "Epoch 1/6\n",
            "70/70 [==============================] - 113s 2s/step - loss: 1.4457 - accuracy: 0.8784 - val_loss: 1.8839 - val_accuracy: 0.8837\n",
            "Epoch 2/6\n",
            "70/70 [==============================] - 79s 1s/step - loss: 0.5092 - accuracy: 0.9604 - val_loss: 0.1001 - val_accuracy: 0.9918\n",
            "Epoch 3/6\n",
            "70/70 [==============================] - 78s 1s/step - loss: 0.2172 - accuracy: 0.9837 - val_loss: 0.0581 - val_accuracy: 1.0000\n",
            "Epoch 4/6\n",
            "70/70 [==============================] - 81s 1s/step - loss: 0.2099 - accuracy: 0.9914 - val_loss: 0.0130 - val_accuracy: 1.0000\n",
            "Epoch 5/6\n",
            "70/70 [==============================] - 80s 1s/step - loss: 0.2393 - accuracy: 0.9935 - val_loss: 0.0251 - val_accuracy: 0.9959\n",
            "Epoch 6/6\n",
            "70/70 [==============================] - 83s 1s/step - loss: 0.0964 - accuracy: 0.9955 - val_loss: 0.0026 - val_accuracy: 1.0000\n"
          ]
        }
      ]
    },
    {
      "cell_type": "code",
      "source": [
        "import os\n",
        "#import cv2 as cv\n",
        "import numpy as np\n",
        "import cv2\n",
        "from google.colab.patches import cv2_imshow\n",
        "import glob as gb\n",
        "path=\"/content/drive/MyDrive/Task3/Test\"\n",
        "main_folder = os.listdir(path)\n",
        "#picture = os.listdir(main_folder)\n",
        "img_list = []\n",
        "binary_list = []\n",
        "folder_belonging = []\n",
        "folder_label=[]\n",
        "for n in range(0,len(main_folder)):\n",
        "  if main_folder[n]==\".ipynb_checkpoints\":\n",
        "    #print(main_folder[i])\n",
        "    continue\n",
        "  pics = path + \"/\" + main_folder[n]\n",
        "  for m in os.listdir(pics):\n",
        "    x = pics + \"/\" + m\n",
        "    imagess = cv2.imread(x)\n",
        "    img_list.append(imagess)\n",
        "    folder_belonging.append(pics)\n",
        "    print(pics)\n",
        "    folder_label.append(main_folder[n])\n",
        "#print(path)\n",
        "print(folder_label)\n",
        "#print(img_list)"
      ],
      "metadata": {
        "id": "E4bLm1PUk1Ux",
        "colab": {
          "base_uri": "https://localhost:8080/",
          "height": 0
        },
        "outputId": "b7716536-766d-4335-cea3-9503faccbd3f"
      },
      "execution_count": 10,
      "outputs": [
        {
          "output_type": "stream",
          "name": "stdout",
          "text": [
            "/content/drive/MyDrive/Task3/Test/Stop\n",
            "/content/drive/MyDrive/Task3/Test/Stop\n",
            "/content/drive/MyDrive/Task3/Test/Stop\n",
            "/content/drive/MyDrive/Task3/Test/Stop\n",
            "/content/drive/MyDrive/Task3/Test/Stop\n",
            "/content/drive/MyDrive/Task3/Test/Stop\n",
            "/content/drive/MyDrive/Task3/Test/Stop\n",
            "/content/drive/MyDrive/Task3/Test/Stop\n",
            "/content/drive/MyDrive/Task3/Test/Stop\n",
            "/content/drive/MyDrive/Task3/Test/Stop\n",
            "/content/drive/MyDrive/Task3/Test/Left Turn\n",
            "/content/drive/MyDrive/Task3/Test/Left Turn\n",
            "/content/drive/MyDrive/Task3/Test/Left Turn\n",
            "/content/drive/MyDrive/Task3/Test/Left Turn\n",
            "/content/drive/MyDrive/Task3/Test/Left Turn\n",
            "/content/drive/MyDrive/Task3/Test/Left Turn\n",
            "/content/drive/MyDrive/Task3/Test/Left Turn\n",
            "/content/drive/MyDrive/Task3/Test/Left Turn\n",
            "/content/drive/MyDrive/Task3/Test/Left Turn\n",
            "/content/drive/MyDrive/Task3/Test/Left Turn\n",
            "/content/drive/MyDrive/Task3/Test/Speed Limit\n",
            "/content/drive/MyDrive/Task3/Test/Speed Limit\n",
            "/content/drive/MyDrive/Task3/Test/Speed Limit\n",
            "/content/drive/MyDrive/Task3/Test/Speed Limit\n",
            "/content/drive/MyDrive/Task3/Test/Speed Limit\n",
            "/content/drive/MyDrive/Task3/Test/Speed Limit\n",
            "/content/drive/MyDrive/Task3/Test/Speed Limit\n",
            "/content/drive/MyDrive/Task3/Test/Speed Limit\n",
            "/content/drive/MyDrive/Task3/Test/Speed Limit\n",
            "/content/drive/MyDrive/Task3/Test/Speed Limit\n",
            "/content/drive/MyDrive/Task3/Test/Object Marker\n",
            "/content/drive/MyDrive/Task3/Test/Object Marker\n",
            "/content/drive/MyDrive/Task3/Test/Object Marker\n",
            "/content/drive/MyDrive/Task3/Test/Object Marker\n",
            "/content/drive/MyDrive/Task3/Test/Object Marker\n",
            "/content/drive/MyDrive/Task3/Test/Object Marker\n",
            "/content/drive/MyDrive/Task3/Test/Object Marker\n",
            "/content/drive/MyDrive/Task3/Test/Object Marker\n",
            "/content/drive/MyDrive/Task3/Test/Object Marker\n",
            "/content/drive/MyDrive/Task3/Test/Object Marker\n",
            "/content/drive/MyDrive/Task3/Test/Information\n",
            "/content/drive/MyDrive/Task3/Test/Information\n",
            "/content/drive/MyDrive/Task3/Test/Information\n",
            "/content/drive/MyDrive/Task3/Test/Information\n",
            "/content/drive/MyDrive/Task3/Test/Information\n",
            "/content/drive/MyDrive/Task3/Test/Information\n",
            "/content/drive/MyDrive/Task3/Test/Information\n",
            "/content/drive/MyDrive/Task3/Test/Information\n",
            "/content/drive/MyDrive/Task3/Test/Information\n",
            "/content/drive/MyDrive/Task3/Test/Information\n",
            "/content/drive/MyDrive/Task3/Test/School\n",
            "/content/drive/MyDrive/Task3/Test/School\n",
            "/content/drive/MyDrive/Task3/Test/School\n",
            "/content/drive/MyDrive/Task3/Test/School\n",
            "/content/drive/MyDrive/Task3/Test/School\n",
            "/content/drive/MyDrive/Task3/Test/School\n",
            "/content/drive/MyDrive/Task3/Test/School\n",
            "/content/drive/MyDrive/Task3/Test/School\n",
            "/content/drive/MyDrive/Task3/Test/School\n",
            "/content/drive/MyDrive/Task3/Test/School\n",
            "/content/drive/MyDrive/Task3/Test/Do Not Enter\n",
            "/content/drive/MyDrive/Task3/Test/Do Not Enter\n",
            "/content/drive/MyDrive/Task3/Test/Do Not Enter\n",
            "/content/drive/MyDrive/Task3/Test/Do Not Enter\n",
            "/content/drive/MyDrive/Task3/Test/Do Not Enter\n",
            "/content/drive/MyDrive/Task3/Test/Do Not Enter\n",
            "/content/drive/MyDrive/Task3/Test/Do Not Enter\n",
            "/content/drive/MyDrive/Task3/Test/Do Not Enter\n",
            "/content/drive/MyDrive/Task3/Test/Do Not Enter\n",
            "/content/drive/MyDrive/Task3/Test/Do Not Enter\n",
            "['Stop', 'Stop', 'Stop', 'Stop', 'Stop', 'Stop', 'Stop', 'Stop', 'Stop', 'Stop', 'Left Turn', 'Left Turn', 'Left Turn', 'Left Turn', 'Left Turn', 'Left Turn', 'Left Turn', 'Left Turn', 'Left Turn', 'Left Turn', 'Speed Limit', 'Speed Limit', 'Speed Limit', 'Speed Limit', 'Speed Limit', 'Speed Limit', 'Speed Limit', 'Speed Limit', 'Speed Limit', 'Speed Limit', 'Object Marker', 'Object Marker', 'Object Marker', 'Object Marker', 'Object Marker', 'Object Marker', 'Object Marker', 'Object Marker', 'Object Marker', 'Object Marker', 'Information', 'Information', 'Information', 'Information', 'Information', 'Information', 'Information', 'Information', 'Information', 'Information', 'School', 'School', 'School', 'School', 'School', 'School', 'School', 'School', 'School', 'School', 'Do Not Enter', 'Do Not Enter', 'Do Not Enter', 'Do Not Enter', 'Do Not Enter', 'Do Not Enter', 'Do Not Enter', 'Do Not Enter', 'Do Not Enter', 'Do Not Enter']\n"
          ]
        }
      ]
    },
    {
      "cell_type": "code",
      "source": [
        "import cv2\n",
        "from google.colab.patches import cv2_imshow\n",
        "\n",
        "test_images = []\n",
        "for i in range(0,len(img_list)):\n",
        "  #image = cv2.imread(imagess)\n",
        "  resize= cv2.resize(imagess, (256,256),3)\n",
        "  #test_images.append(resize)\n",
        "  plt.show()\n",
        "  task_3_testing = model.predict(resize)\n",
        "  if task_3_testing==0:\n",
        "    print('Do Not Enter')\n",
        "  elif task_3_testing==1:\n",
        "    print('Information')\n",
        "  elif task_3_testing==2:\n",
        "    print('Left Turn')\n",
        "  elif task_3_testing==3:\n",
        "    print('Object Marker')\n",
        "  elif task_3_testing==4:\n",
        "    print('School')\n",
        "  elif task_3_testing==5:\n",
        "    print('Speed Limit')\n",
        "  elif task_3_testing==6:\n",
        "    print('Stop')"
      ],
      "metadata": {
        "id": "Ljp1-bqilqKG"
      },
      "execution_count": null,
      "outputs": []
    },
    {
      "cell_type": "code",
      "source": [
        ""
      ],
      "metadata": {
        "id": "aO7U6C1peQGR"
      },
      "execution_count": null,
      "outputs": []
    }
  ]
}