{
  "nbformat": 4,
  "nbformat_minor": 0,
  "metadata": {
    "colab": {
      "provenance": []
    },
    "kernelspec": {
      "name": "python3",
      "display_name": "Python 3"
    },
    "language_info": {
      "name": "python"
    }
  },
  "cells": [
    {
      "cell_type": "code",
      "execution_count": 99,
      "metadata": {
        "colab": {
          "base_uri": "https://localhost:8080/"
        },
        "id": "npkELsRT-vBV",
        "outputId": "765dd284-d141-457b-de7b-5c79e588309e"
      },
      "outputs": [
        {
          "output_type": "stream",
          "name": "stdout",
          "text": [
            "Requirement already satisfied: nltk in /usr/local/lib/python3.10/dist-packages (3.8.1)\n",
            "Requirement already satisfied: click in /usr/local/lib/python3.10/dist-packages (from nltk) (8.1.6)\n",
            "Requirement already satisfied: joblib in /usr/local/lib/python3.10/dist-packages (from nltk) (1.3.1)\n",
            "Requirement already satisfied: regex>=2021.8.3 in /usr/local/lib/python3.10/dist-packages (from nltk) (2022.10.31)\n",
            "Requirement already satisfied: tqdm in /usr/local/lib/python3.10/dist-packages (from nltk) (4.65.0)\n",
            "Requirement already satisfied: seaborn in /usr/local/lib/python3.10/dist-packages (0.12.2)\n",
            "Requirement already satisfied: numpy!=1.24.0,>=1.17 in /usr/local/lib/python3.10/dist-packages (from seaborn) (1.22.4)\n",
            "Requirement already satisfied: pandas>=0.25 in /usr/local/lib/python3.10/dist-packages (from seaborn) (1.5.3)\n",
            "Requirement already satisfied: matplotlib!=3.6.1,>=3.1 in /usr/local/lib/python3.10/dist-packages (from seaborn) (3.7.1)\n",
            "Requirement already satisfied: contourpy>=1.0.1 in /usr/local/lib/python3.10/dist-packages (from matplotlib!=3.6.1,>=3.1->seaborn) (1.1.0)\n",
            "Requirement already satisfied: cycler>=0.10 in /usr/local/lib/python3.10/dist-packages (from matplotlib!=3.6.1,>=3.1->seaborn) (0.11.0)\n",
            "Requirement already satisfied: fonttools>=4.22.0 in /usr/local/lib/python3.10/dist-packages (from matplotlib!=3.6.1,>=3.1->seaborn) (4.41.1)\n",
            "Requirement already satisfied: kiwisolver>=1.0.1 in /usr/local/lib/python3.10/dist-packages (from matplotlib!=3.6.1,>=3.1->seaborn) (1.4.4)\n",
            "Requirement already satisfied: packaging>=20.0 in /usr/local/lib/python3.10/dist-packages (from matplotlib!=3.6.1,>=3.1->seaborn) (23.1)\n",
            "Requirement already satisfied: pillow>=6.2.0 in /usr/local/lib/python3.10/dist-packages (from matplotlib!=3.6.1,>=3.1->seaborn) (9.4.0)\n",
            "Requirement already satisfied: pyparsing>=2.3.1 in /usr/local/lib/python3.10/dist-packages (from matplotlib!=3.6.1,>=3.1->seaborn) (3.1.0)\n",
            "Requirement already satisfied: python-dateutil>=2.7 in /usr/local/lib/python3.10/dist-packages (from matplotlib!=3.6.1,>=3.1->seaborn) (2.8.2)\n",
            "Requirement already satisfied: pytz>=2020.1 in /usr/local/lib/python3.10/dist-packages (from pandas>=0.25->seaborn) (2022.7.1)\n",
            "Requirement already satisfied: six>=1.5 in /usr/local/lib/python3.10/dist-packages (from python-dateutil>=2.7->matplotlib!=3.6.1,>=3.1->seaborn) (1.16.0)\n",
            "Requirement already satisfied: matplotlib in /usr/local/lib/python3.10/dist-packages (3.7.1)\n",
            "Requirement already satisfied: contourpy>=1.0.1 in /usr/local/lib/python3.10/dist-packages (from matplotlib) (1.1.0)\n",
            "Requirement already satisfied: cycler>=0.10 in /usr/local/lib/python3.10/dist-packages (from matplotlib) (0.11.0)\n",
            "Requirement already satisfied: fonttools>=4.22.0 in /usr/local/lib/python3.10/dist-packages (from matplotlib) (4.41.1)\n",
            "Requirement already satisfied: kiwisolver>=1.0.1 in /usr/local/lib/python3.10/dist-packages (from matplotlib) (1.4.4)\n",
            "Requirement already satisfied: numpy>=1.20 in /usr/local/lib/python3.10/dist-packages (from matplotlib) (1.22.4)\n",
            "Requirement already satisfied: packaging>=20.0 in /usr/local/lib/python3.10/dist-packages (from matplotlib) (23.1)\n",
            "Requirement already satisfied: pillow>=6.2.0 in /usr/local/lib/python3.10/dist-packages (from matplotlib) (9.4.0)\n",
            "Requirement already satisfied: pyparsing>=2.3.1 in /usr/local/lib/python3.10/dist-packages (from matplotlib) (3.1.0)\n",
            "Requirement already satisfied: python-dateutil>=2.7 in /usr/local/lib/python3.10/dist-packages (from matplotlib) (2.8.2)\n",
            "Requirement already satisfied: six>=1.5 in /usr/local/lib/python3.10/dist-packages (from python-dateutil>=2.7->matplotlib) (1.16.0)\n"
          ]
        }
      ],
      "source": [
        "!pip install nltk\n",
        "!pip install seaborn\n",
        "!pip install matplotlib\n",
        "import pandas as pd\n",
        "import nltk\n",
        "import seaborn as sea\n",
        "import matplotlib as plt\n"
      ]
    },
    {
      "cell_type": "code",
      "source": [
        "#read the data\n",
        "data = pd.read_excel('/content/1_7_23(Sheet).xlsx')\n",
        "data.head()"
      ],
      "metadata": {
        "colab": {
          "base_uri": "https://localhost:8080/",
          "height": 206
        },
        "id": "sH_HrMPx_XGF",
        "outputId": "5b7dd585-d5fa-4cc1-f3a4-89a7307b56c0"
      },
      "execution_count": 100,
      "outputs": [
        {
          "output_type": "execute_result",
          "data": {
            "text/plain": [
              "                                    address                      area  \\\n",
              "0                        H E 863 Fatihabad   Cavalry Ground Extension   \n",
              "1  Cavalry ground street 1 villa 1A NA Home  Cavalry Ground Extension   \n",
              "2         House No 152A Street No 6 Block A             Nishat Colony   \n",
              "3        House no E96d Ali lane street no 7  Cavalry Ground Extension   \n",
              "4       House no E96d Ali lane street no 7   Cavalry Ground Extension   \n",
              "\n",
              "            city     status  Result  \n",
              "0  Lahore  Cantt  delivered       0  \n",
              "1  Lahore  Cantt  delivered       0  \n",
              "2  Lahore  Cantt  delivered       0  \n",
              "3  Lahore  Cantt  delivered       0  \n",
              "4  Lahore  Cantt  delivered       0  "
            ],
            "text/html": [
              "\n",
              "\n",
              "  <div id=\"df-8defb929-b05c-4f64-84c0-b34c233c228b\">\n",
              "    <div class=\"colab-df-container\">\n",
              "      <div>\n",
              "<style scoped>\n",
              "    .dataframe tbody tr th:only-of-type {\n",
              "        vertical-align: middle;\n",
              "    }\n",
              "\n",
              "    .dataframe tbody tr th {\n",
              "        vertical-align: top;\n",
              "    }\n",
              "\n",
              "    .dataframe thead th {\n",
              "        text-align: right;\n",
              "    }\n",
              "</style>\n",
              "<table border=\"1\" class=\"dataframe\">\n",
              "  <thead>\n",
              "    <tr style=\"text-align: right;\">\n",
              "      <th></th>\n",
              "      <th>address</th>\n",
              "      <th>area</th>\n",
              "      <th>city</th>\n",
              "      <th>status</th>\n",
              "      <th>Result</th>\n",
              "    </tr>\n",
              "  </thead>\n",
              "  <tbody>\n",
              "    <tr>\n",
              "      <th>0</th>\n",
              "      <td>H E 863 Fatihabad</td>\n",
              "      <td>Cavalry Ground Extension</td>\n",
              "      <td>Lahore  Cantt</td>\n",
              "      <td>delivered</td>\n",
              "      <td>0</td>\n",
              "    </tr>\n",
              "    <tr>\n",
              "      <th>1</th>\n",
              "      <td>Cavalry ground street 1 villa 1A NA Home</td>\n",
              "      <td>Cavalry Ground Extension</td>\n",
              "      <td>Lahore  Cantt</td>\n",
              "      <td>delivered</td>\n",
              "      <td>0</td>\n",
              "    </tr>\n",
              "    <tr>\n",
              "      <th>2</th>\n",
              "      <td>House No 152A Street No 6 Block A</td>\n",
              "      <td>Nishat Colony</td>\n",
              "      <td>Lahore  Cantt</td>\n",
              "      <td>delivered</td>\n",
              "      <td>0</td>\n",
              "    </tr>\n",
              "    <tr>\n",
              "      <th>3</th>\n",
              "      <td>House no E96d Ali lane street no 7</td>\n",
              "      <td>Cavalry Ground Extension</td>\n",
              "      <td>Lahore  Cantt</td>\n",
              "      <td>delivered</td>\n",
              "      <td>0</td>\n",
              "    </tr>\n",
              "    <tr>\n",
              "      <th>4</th>\n",
              "      <td>House no E96d Ali lane street no 7</td>\n",
              "      <td>Cavalry Ground Extension</td>\n",
              "      <td>Lahore  Cantt</td>\n",
              "      <td>delivered</td>\n",
              "      <td>0</td>\n",
              "    </tr>\n",
              "  </tbody>\n",
              "</table>\n",
              "</div>\n",
              "      <button class=\"colab-df-convert\" onclick=\"convertToInteractive('df-8defb929-b05c-4f64-84c0-b34c233c228b')\"\n",
              "              title=\"Convert this dataframe to an interactive table.\"\n",
              "              style=\"display:none;\">\n",
              "\n",
              "  <svg xmlns=\"http://www.w3.org/2000/svg\" height=\"24px\"viewBox=\"0 0 24 24\"\n",
              "       width=\"24px\">\n",
              "    <path d=\"M0 0h24v24H0V0z\" fill=\"none\"/>\n",
              "    <path d=\"M18.56 5.44l.94 2.06.94-2.06 2.06-.94-2.06-.94-.94-2.06-.94 2.06-2.06.94zm-11 1L8.5 8.5l.94-2.06 2.06-.94-2.06-.94L8.5 2.5l-.94 2.06-2.06.94zm10 10l.94 2.06.94-2.06 2.06-.94-2.06-.94-.94-2.06-.94 2.06-2.06.94z\"/><path d=\"M17.41 7.96l-1.37-1.37c-.4-.4-.92-.59-1.43-.59-.52 0-1.04.2-1.43.59L10.3 9.45l-7.72 7.72c-.78.78-.78 2.05 0 2.83L4 21.41c.39.39.9.59 1.41.59.51 0 1.02-.2 1.41-.59l7.78-7.78 2.81-2.81c.8-.78.8-2.07 0-2.86zM5.41 20L4 18.59l7.72-7.72 1.47 1.35L5.41 20z\"/>\n",
              "  </svg>\n",
              "      </button>\n",
              "\n",
              "\n",
              "\n",
              "    <div id=\"df-86e43e43-9730-4899-a562-08d489435d2c\">\n",
              "      <button class=\"colab-df-quickchart\" onclick=\"quickchart('df-86e43e43-9730-4899-a562-08d489435d2c')\"\n",
              "              title=\"Suggest charts.\"\n",
              "              style=\"display:none;\">\n",
              "\n",
              "<svg xmlns=\"http://www.w3.org/2000/svg\" height=\"24px\"viewBox=\"0 0 24 24\"\n",
              "     width=\"24px\">\n",
              "    <g>\n",
              "        <path d=\"M19 3H5c-1.1 0-2 .9-2 2v14c0 1.1.9 2 2 2h14c1.1 0 2-.9 2-2V5c0-1.1-.9-2-2-2zM9 17H7v-7h2v7zm4 0h-2V7h2v10zm4 0h-2v-4h2v4z\"/>\n",
              "    </g>\n",
              "</svg>\n",
              "      </button>\n",
              "    </div>\n",
              "\n",
              "<style>\n",
              "  .colab-df-quickchart {\n",
              "    background-color: #E8F0FE;\n",
              "    border: none;\n",
              "    border-radius: 50%;\n",
              "    cursor: pointer;\n",
              "    display: none;\n",
              "    fill: #1967D2;\n",
              "    height: 32px;\n",
              "    padding: 0 0 0 0;\n",
              "    width: 32px;\n",
              "  }\n",
              "\n",
              "  .colab-df-quickchart:hover {\n",
              "    background-color: #E2EBFA;\n",
              "    box-shadow: 0px 1px 2px rgba(60, 64, 67, 0.3), 0px 1px 3px 1px rgba(60, 64, 67, 0.15);\n",
              "    fill: #174EA6;\n",
              "  }\n",
              "\n",
              "  [theme=dark] .colab-df-quickchart {\n",
              "    background-color: #3B4455;\n",
              "    fill: #D2E3FC;\n",
              "  }\n",
              "\n",
              "  [theme=dark] .colab-df-quickchart:hover {\n",
              "    background-color: #434B5C;\n",
              "    box-shadow: 0px 1px 3px 1px rgba(0, 0, 0, 0.15);\n",
              "    filter: drop-shadow(0px 1px 2px rgba(0, 0, 0, 0.3));\n",
              "    fill: #FFFFFF;\n",
              "  }\n",
              "</style>\n",
              "\n",
              "    <script>\n",
              "      async function quickchart(key) {\n",
              "        const containerElement = document.querySelector('#' + key);\n",
              "        const charts = await google.colab.kernel.invokeFunction(\n",
              "            'suggestCharts', [key], {});\n",
              "      }\n",
              "    </script>\n",
              "\n",
              "      <script>\n",
              "\n",
              "function displayQuickchartButton(domScope) {\n",
              "  let quickchartButtonEl =\n",
              "    domScope.querySelector('#df-86e43e43-9730-4899-a562-08d489435d2c button.colab-df-quickchart');\n",
              "  quickchartButtonEl.style.display =\n",
              "    google.colab.kernel.accessAllowed ? 'block' : 'none';\n",
              "}\n",
              "\n",
              "        displayQuickchartButton(document);\n",
              "      </script>\n",
              "      <style>\n",
              "    .colab-df-container {\n",
              "      display:flex;\n",
              "      flex-wrap:wrap;\n",
              "      gap: 12px;\n",
              "    }\n",
              "\n",
              "    .colab-df-convert {\n",
              "      background-color: #E8F0FE;\n",
              "      border: none;\n",
              "      border-radius: 50%;\n",
              "      cursor: pointer;\n",
              "      display: none;\n",
              "      fill: #1967D2;\n",
              "      height: 32px;\n",
              "      padding: 0 0 0 0;\n",
              "      width: 32px;\n",
              "    }\n",
              "\n",
              "    .colab-df-convert:hover {\n",
              "      background-color: #E2EBFA;\n",
              "      box-shadow: 0px 1px 2px rgba(60, 64, 67, 0.3), 0px 1px 3px 1px rgba(60, 64, 67, 0.15);\n",
              "      fill: #174EA6;\n",
              "    }\n",
              "\n",
              "    [theme=dark] .colab-df-convert {\n",
              "      background-color: #3B4455;\n",
              "      fill: #D2E3FC;\n",
              "    }\n",
              "\n",
              "    [theme=dark] .colab-df-convert:hover {\n",
              "      background-color: #434B5C;\n",
              "      box-shadow: 0px 1px 3px 1px rgba(0, 0, 0, 0.15);\n",
              "      filter: drop-shadow(0px 1px 2px rgba(0, 0, 0, 0.3));\n",
              "      fill: #FFFFFF;\n",
              "    }\n",
              "  </style>\n",
              "\n",
              "      <script>\n",
              "        const buttonEl =\n",
              "          document.querySelector('#df-8defb929-b05c-4f64-84c0-b34c233c228b button.colab-df-convert');\n",
              "        buttonEl.style.display =\n",
              "          google.colab.kernel.accessAllowed ? 'block' : 'none';\n",
              "\n",
              "        async function convertToInteractive(key) {\n",
              "          const element = document.querySelector('#df-8defb929-b05c-4f64-84c0-b34c233c228b');\n",
              "          const dataTable =\n",
              "            await google.colab.kernel.invokeFunction('convertToInteractive',\n",
              "                                                     [key], {});\n",
              "          if (!dataTable) return;\n",
              "\n",
              "          const docLinkHtml = 'Like what you see? Visit the ' +\n",
              "            '<a target=\"_blank\" href=https://colab.research.google.com/notebooks/data_table.ipynb>data table notebook</a>'\n",
              "            + ' to learn more about interactive tables.';\n",
              "          element.innerHTML = '';\n",
              "          dataTable['output_type'] = 'display_data';\n",
              "          await google.colab.output.renderOutput(dataTable, element);\n",
              "          const docLink = document.createElement('div');\n",
              "          docLink.innerHTML = docLinkHtml;\n",
              "          element.appendChild(docLink);\n",
              "        }\n",
              "      </script>\n",
              "    </div>\n",
              "  </div>\n"
            ]
          },
          "metadata": {},
          "execution_count": 100
        }
      ]
    },
    {
      "cell_type": "markdown",
      "source": [
        "**Address's Column Core Stuff**\n",
        "\n",
        "Core_Strings = ['H','House', 'HOUSE', 'h', 'flat', 'Flat', 'room', 'Room', 'Block', 'block', 'shop', 'Shop', 'Plot', 'plot'\n",
        ",'Street', 'st', 'street']"
      ],
      "metadata": {
        "id": "Mmsi174oyssf"
      }
    },
    {
      "cell_type": "markdown",
      "source": [
        "**Street in Address Column**"
      ],
      "metadata": {
        "id": "hSj8fsFtLaWT"
      }
    },
    {
      "cell_type": "code",
      "source": [
        "#Firstly, drop Na and Nan Values\n",
        "df = data.dropna()\n",
        "print(\"\\nMatch if  a given column has a particular sub string:\")\n",
        "street_in_address = df[df['address'].str.contains('STREET', na=False)]\n",
        "#street_in_address  # Total Count 1038\n",
        "street_in_address[street_in_address['Result']==2]\n",
        "street_in_address['Result'].value_counts()"
      ],
      "metadata": {
        "id": "yD4WibJ-ROLO",
        "colab": {
          "base_uri": "https://localhost:8080/"
        },
        "outputId": "2bca0ae2-3051-4683-be36-31d5b09b9d5b"
      },
      "execution_count": 101,
      "outputs": [
        {
          "output_type": "stream",
          "name": "stdout",
          "text": [
            "\n",
            "Match if  a given column has a particular sub string:\n"
          ]
        },
        {
          "output_type": "execute_result",
          "data": {
            "text/plain": [
              "0    40\n",
              "1     2\n",
              "Name: Result, dtype: int64"
            ]
          },
          "metadata": {},
          "execution_count": 101
        }
      ]
    },
    {
      "cell_type": "markdown",
      "source": [
        "****shop in Address Column****"
      ],
      "metadata": {
        "id": "PggBzxNTL-rm"
      }
    },
    {
      "cell_type": "code",
      "source": [
        "#Firstly, drop Na and Nan Values\n",
        "df = data.dropna()\n",
        "print(\"\\nMatch if  a given column has a particular sub string:\")\n",
        "shop_in_address = df[df['address'].str.contains('shop', na=False)]\n",
        "\n",
        "#shop_in_address[shop_in_address['Result']==0]\n",
        "shop_in_address['Result'].value_counts()"
      ],
      "metadata": {
        "colab": {
          "base_uri": "https://localhost:8080/"
        },
        "id": "qrX3tAcE4s2d",
        "outputId": "45c15986-2372-411b-e49c-bce7300115f5"
      },
      "execution_count": 102,
      "outputs": [
        {
          "output_type": "stream",
          "name": "stdout",
          "text": [
            "\n",
            "Match if  a given column has a particular sub string:\n"
          ]
        },
        {
          "output_type": "execute_result",
          "data": {
            "text/plain": [
              "0    94\n",
              "1    30\n",
              "2     5\n",
              "Name: Result, dtype: int64"
            ]
          },
          "metadata": {},
          "execution_count": 102
        }
      ]
    },
    {
      "cell_type": "markdown",
      "source": [
        "**Flat in Address Column**"
      ],
      "metadata": {
        "id": "5MhMa1xDOcyh"
      }
    },
    {
      "cell_type": "code",
      "source": [
        "#Firstly, drop Na and Nan Values\n",
        "df = data.dropna()\n",
        "print(\"\\nMatch if  a given column has a particular sub string:\")\n",
        "flat_in_address = df[df['address'].str.contains('Flat', na=False)]\n",
        "\n",
        "#shop_in_address[shop_in_address['Result']==0]\n",
        "flat_in_address['Result'].value_counts()"
      ],
      "metadata": {
        "colab": {
          "base_uri": "https://localhost:8080/"
        },
        "id": "Axu4sbCsMaYI",
        "outputId": "f4b14b49-9350-4cb9-884d-0244e8dc3475"
      },
      "execution_count": 103,
      "outputs": [
        {
          "output_type": "stream",
          "name": "stdout",
          "text": [
            "\n",
            "Match if  a given column has a particular sub string:\n"
          ]
        },
        {
          "output_type": "execute_result",
          "data": {
            "text/plain": [
              "0    485\n",
              "1      1\n",
              "2      1\n",
              "Name: Result, dtype: int64"
            ]
          },
          "metadata": {},
          "execution_count": 103
        }
      ]
    },
    {
      "cell_type": "markdown",
      "source": [
        "**Room in Address Column**"
      ],
      "metadata": {
        "id": "hUFakQZnPzaM"
      }
    },
    {
      "cell_type": "code",
      "source": [
        "#Firstly, drop Na and Nan Values\n",
        "df = data.dropna()\n",
        "print(\"\\nMatch if  a given column has a particular sub string:\")\n",
        "room_in_address = df[df['address'].str.contains('Room', na=False)]\n",
        "\n",
        "#shop_in_address[shop_in_address['Result']==0]\n",
        "room_in_address['Result'].value_counts()"
      ],
      "metadata": {
        "colab": {
          "base_uri": "https://localhost:8080/"
        },
        "id": "YaiHsVdeOw0c",
        "outputId": "e45249fe-93dd-4fcd-c226-8bdd1d896253"
      },
      "execution_count": 104,
      "outputs": [
        {
          "output_type": "stream",
          "name": "stdout",
          "text": [
            "\n",
            "Match if  a given column has a particular sub string:\n"
          ]
        },
        {
          "output_type": "execute_result",
          "data": {
            "text/plain": [
              "0    71\n",
              "1     3\n",
              "2     2\n",
              "Name: Result, dtype: int64"
            ]
          },
          "metadata": {},
          "execution_count": 104
        }
      ]
    },
    {
      "cell_type": "markdown",
      "source": [
        "**Block in Address Column**"
      ],
      "metadata": {
        "id": "ezuEAXGYQrXR"
      }
    },
    {
      "cell_type": "code",
      "source": [
        "#Firstly, drop Na and Nan Values\n",
        "df = data.dropna()\n",
        "print(\"\\nMatch if  a given column has a particular sub string:\")\n",
        "block_in_address = df[df['address'].str.contains('block', na=False)]\n",
        "\n",
        "#shop_in_address[shop_in_address['Result']==0]\n",
        "block_in_address['Result'].value_counts()"
      ],
      "metadata": {
        "colab": {
          "base_uri": "https://localhost:8080/"
        },
        "id": "PDoIuVjYQNb7",
        "outputId": "96248057-8d95-40c9-bdac-81ed639888f8"
      },
      "execution_count": 105,
      "outputs": [
        {
          "output_type": "stream",
          "name": "stdout",
          "text": [
            "\n",
            "Match if  a given column has a particular sub string:\n"
          ]
        },
        {
          "output_type": "execute_result",
          "data": {
            "text/plain": [
              "0    992\n",
              "1     39\n",
              "2     10\n",
              "Name: Result, dtype: int64"
            ]
          },
          "metadata": {},
          "execution_count": 105
        }
      ]
    },
    {
      "cell_type": "markdown",
      "source": [
        "**plot in address column**"
      ],
      "metadata": {
        "id": "bN0dH9ciRZbd"
      }
    },
    {
      "cell_type": "code",
      "source": [
        "#Firstly, drop Na and Nan Values\n",
        "df = data.dropna()\n",
        "print(\"\\nMatch if  a given column has a particular sub string:\")\n",
        "house_and_street_in_address = df[df['address'].str.contains('house street', na=False)]\n",
        "\n",
        "#shop_in_address[shop_in_address['Result']==0]\n",
        "house_and_street_in_address['Result'].value_counts()"
      ],
      "metadata": {
        "colab": {
          "base_uri": "https://localhost:8080/"
        },
        "id": "ITvWL2xbRKZV",
        "outputId": "d6e88736-8abb-4bd8-8b59-96f6b68cdacd"
      },
      "execution_count": 106,
      "outputs": [
        {
          "output_type": "stream",
          "name": "stdout",
          "text": [
            "\n",
            "Match if  a given column has a particular sub string:\n"
          ]
        },
        {
          "output_type": "execute_result",
          "data": {
            "text/plain": [
              "0    1\n",
              "1    1\n",
              "Name: Result, dtype: int64"
            ]
          },
          "metadata": {},
          "execution_count": 106
        }
      ]
    },
    {
      "cell_type": "code",
      "source": [
        "#Firstly, drop Na and Nan Values\n",
        "df = data.dropna()\n",
        "print(\"\\nMatch if  a given column has a particular sub string:\")\n",
        "flat_in_address = df[df['address'].str.contains('flat', na=False)]\n",
        "\n",
        "#shop_in_address[shop_in_address['Result']==0]\n",
        "flat_in_address['Result'].value_counts()"
      ],
      "metadata": {
        "id": "e-1io8UgRu9w",
        "colab": {
          "base_uri": "https://localhost:8080/"
        },
        "outputId": "46a49802-3397-463e-c20e-55431bf5bca5"
      },
      "execution_count": 107,
      "outputs": [
        {
          "output_type": "stream",
          "name": "stdout",
          "text": [
            "\n",
            "Match if  a given column has a particular sub string:\n"
          ]
        },
        {
          "output_type": "execute_result",
          "data": {
            "text/plain": [
              "0    174\n",
              "1      4\n",
              "Name: Result, dtype: int64"
            ]
          },
          "metadata": {},
          "execution_count": 107
        }
      ]
    },
    {
      "cell_type": "markdown",
      "source": [
        "**Create a string, and check the frequency of each word**"
      ],
      "metadata": {
        "id": "eCKuyGBi6KEa"
      }
    },
    {
      "cell_type": "code",
      "source": [
        "#Firstly, drop Na and Nan Values\n",
        "df = data.dropna()\n",
        "\n",
        "mostly_used_words_in_address_column = ['flat','house','plot','House','PLOT','HOUSE','FLAT']\n",
        "print(\"\\nMatch if  a given column has a particular sub string:\")\n",
        "\n",
        "for i in mostly_used_words_in_address_column:\n",
        "  plot_in_address = df[df['address'].str.contains(i, na=False)]\n",
        "\n",
        "#shop_in_address[shop_in_address['Result']==0]\n",
        "plot_in_address['Result'].value_counts()"
      ],
      "metadata": {
        "colab": {
          "base_uri": "https://localhost:8080/"
        },
        "id": "QA2GM6h95qeB",
        "outputId": "4cea3f6c-17d0-44cb-e382-c7afbb269e94"
      },
      "execution_count": 108,
      "outputs": [
        {
          "output_type": "stream",
          "name": "stdout",
          "text": [
            "\n",
            "Match if  a given column has a particular sub string:\n"
          ]
        },
        {
          "output_type": "execute_result",
          "data": {
            "text/plain": [
              "0    18\n",
              "Name: Result, dtype: int64"
            ]
          },
          "metadata": {},
          "execution_count": 108
        }
      ]
    },
    {
      "cell_type": "code",
      "source": [
        "#read the data\n",
        "df = pd.read_excel('/content/Address_Validation_API_Overall.xlsx')\n",
        "df['Address'].head()\n",
        "dataset = df['Address']"
      ],
      "metadata": {
        "id": "-ByGf0WLLIqx"
      },
      "execution_count": 109,
      "outputs": []
    },
    {
      "cell_type": "code",
      "source": [
        "df.info()"
      ],
      "metadata": {
        "colab": {
          "base_uri": "https://localhost:8080/"
        },
        "id": "CHoPmTLmiRTG",
        "outputId": "0efaa97c-f176-4afd-a126-c5f7b7870096"
      },
      "execution_count": 110,
      "outputs": [
        {
          "output_type": "stream",
          "name": "stdout",
          "text": [
            "<class 'pandas.core.frame.DataFrame'>\n",
            "RangeIndex: 10000 entries, 0 to 9999\n",
            "Data columns (total 6 columns):\n",
            " #   Column              Non-Null Count  Dtype \n",
            "---  ------              --------------  ----- \n",
            " 0   Address             9998 non-null   object\n",
            " 1   Area                10000 non-null  object\n",
            " 2   City                10000 non-null  object\n",
            " 3   Status              10000 non-null  object\n",
            " 4   Result              10000 non-null  int64 \n",
            " 5   Address_validation  10000 non-null  object\n",
            "dtypes: int64(1), object(5)\n",
            "memory usage: 468.9+ KB\n"
          ]
        }
      ]
    },
    {
      "cell_type": "code",
      "source": [
        "Core_Strings = ['H','House', 'HOUSE', 'h', 'flat', 'Flat', 'room', 'Room', 'Block', 'block', 'shop', 'Shop', 'Plot', 'plot'\n",
        ",'Street', 'st', 'street']\n",
        "\n",
        "# Initialize a new column with all zeros\n",
        "df['has_core_string'] = 0\n",
        "\n",
        "# Loop through each core string\n",
        "for core in Core_Strings:\n",
        "    # Update rows that contain the core string to have a value of 1\n",
        "    df.loc[df.Address.str.contains(core, case=False, na=False), 'has_core_string'] = 1\n",
        "\n",
        "# Print the updated DataFrame\n",
        "print(df.head())\n",
        "\n",
        "df.to_excel('/content/core_string_containing.xlsx', index= False)\n"
      ],
      "metadata": {
        "colab": {
          "base_uri": "https://localhost:8080/"
        },
        "id": "j5aBRkpilpAE",
        "outputId": "0db1cb67-8abe-486a-fa0a-9558918da42f"
      },
      "execution_count": 111,
      "outputs": [
        {
          "output_type": "stream",
          "name": "stdout",
          "text": [
            "                                    Address                      Area  \\\n",
            "0                        H E 863 Fatihabad   Cavalry Ground Extension   \n",
            "1  Cavalry ground street 1 villa 1A NA Home  Cavalry Ground Extension   \n",
            "2         House No 152A Street No 6 Block A             Nishat Colony   \n",
            "3        House no E96d Ali lane street no 7  Cavalry Ground Extension   \n",
            "4       House no E96d Ali lane street no 7   Cavalry Ground Extension   \n",
            "\n",
            "            City     Status  Result Address_validation  has_core_string  \n",
            "0  Lahore  Cantt  delivered       0                Yes                1  \n",
            "1  Lahore  Cantt  delivered       0                Yes                1  \n",
            "2  Lahore  Cantt  delivered       0                Yes                1  \n",
            "3  Lahore  Cantt  delivered       0                Yes                1  \n",
            "4  Lahore  Cantt  delivered       0                Yes                1  \n"
          ]
        }
      ]
    },
    {
      "cell_type": "markdown",
      "source": [
        "**Get the Specializd Words in Address's Column**"
      ],
      "metadata": {
        "id": "LG8xRrILAqUv"
      }
    },
    {
      "cell_type": "code",
      "source": [
        ""
      ],
      "metadata": {
        "id": "qPFVU7g9cjoK"
      },
      "execution_count": null,
      "outputs": []
    }
  ]
}