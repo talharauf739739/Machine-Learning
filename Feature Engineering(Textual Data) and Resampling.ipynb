{
  "nbformat": 4,
  "nbformat_minor": 0,
  "metadata": {
    "colab": {
      "provenance": []
    },
    "kernelspec": {
      "name": "python3",
      "display_name": "Python 3"
    },
    "language_info": {
      "name": "python"
    }
  },
  "cells": [
    {
      "cell_type": "code",
      "execution_count": 180,
      "metadata": {
        "colab": {
          "base_uri": "https://localhost:8080/"
        },
        "id": "npkELsRT-vBV",
        "outputId": "bdb2310b-1168-4b98-c1fa-01fb9346a09f"
      },
      "outputs": [
        {
          "output_type": "stream",
          "name": "stdout",
          "text": [
            "Requirement already satisfied: nltk in /usr/local/lib/python3.10/dist-packages (3.8.1)\n",
            "Requirement already satisfied: click in /usr/local/lib/python3.10/dist-packages (from nltk) (8.1.6)\n",
            "Requirement already satisfied: joblib in /usr/local/lib/python3.10/dist-packages (from nltk) (1.3.1)\n",
            "Requirement already satisfied: regex>=2021.8.3 in /usr/local/lib/python3.10/dist-packages (from nltk) (2022.10.31)\n",
            "Requirement already satisfied: tqdm in /usr/local/lib/python3.10/dist-packages (from nltk) (4.65.0)\n",
            "Requirement already satisfied: seaborn in /usr/local/lib/python3.10/dist-packages (0.12.2)\n",
            "Requirement already satisfied: numpy!=1.24.0,>=1.17 in /usr/local/lib/python3.10/dist-packages (from seaborn) (1.23.5)\n",
            "Requirement already satisfied: pandas>=0.25 in /usr/local/lib/python3.10/dist-packages (from seaborn) (1.5.3)\n",
            "Requirement already satisfied: matplotlib!=3.6.1,>=3.1 in /usr/local/lib/python3.10/dist-packages (from seaborn) (3.7.1)\n",
            "Requirement already satisfied: contourpy>=1.0.1 in /usr/local/lib/python3.10/dist-packages (from matplotlib!=3.6.1,>=3.1->seaborn) (1.1.0)\n",
            "Requirement already satisfied: cycler>=0.10 in /usr/local/lib/python3.10/dist-packages (from matplotlib!=3.6.1,>=3.1->seaborn) (0.11.0)\n",
            "Requirement already satisfied: fonttools>=4.22.0 in /usr/local/lib/python3.10/dist-packages (from matplotlib!=3.6.1,>=3.1->seaborn) (4.42.0)\n",
            "Requirement already satisfied: kiwisolver>=1.0.1 in /usr/local/lib/python3.10/dist-packages (from matplotlib!=3.6.1,>=3.1->seaborn) (1.4.4)\n",
            "Requirement already satisfied: packaging>=20.0 in /usr/local/lib/python3.10/dist-packages (from matplotlib!=3.6.1,>=3.1->seaborn) (23.1)\n",
            "Requirement already satisfied: pillow>=6.2.0 in /usr/local/lib/python3.10/dist-packages (from matplotlib!=3.6.1,>=3.1->seaborn) (9.4.0)\n",
            "Requirement already satisfied: pyparsing>=2.3.1 in /usr/local/lib/python3.10/dist-packages (from matplotlib!=3.6.1,>=3.1->seaborn) (3.1.1)\n",
            "Requirement already satisfied: python-dateutil>=2.7 in /usr/local/lib/python3.10/dist-packages (from matplotlib!=3.6.1,>=3.1->seaborn) (2.8.2)\n",
            "Requirement already satisfied: pytz>=2020.1 in /usr/local/lib/python3.10/dist-packages (from pandas>=0.25->seaborn) (2022.7.1)\n",
            "Requirement already satisfied: six>=1.5 in /usr/local/lib/python3.10/dist-packages (from python-dateutil>=2.7->matplotlib!=3.6.1,>=3.1->seaborn) (1.16.0)\n",
            "Requirement already satisfied: matplotlib in /usr/local/lib/python3.10/dist-packages (3.7.1)\n",
            "Requirement already satisfied: contourpy>=1.0.1 in /usr/local/lib/python3.10/dist-packages (from matplotlib) (1.1.0)\n",
            "Requirement already satisfied: cycler>=0.10 in /usr/local/lib/python3.10/dist-packages (from matplotlib) (0.11.0)\n",
            "Requirement already satisfied: fonttools>=4.22.0 in /usr/local/lib/python3.10/dist-packages (from matplotlib) (4.42.0)\n",
            "Requirement already satisfied: kiwisolver>=1.0.1 in /usr/local/lib/python3.10/dist-packages (from matplotlib) (1.4.4)\n",
            "Requirement already satisfied: numpy>=1.20 in /usr/local/lib/python3.10/dist-packages (from matplotlib) (1.23.5)\n",
            "Requirement already satisfied: packaging>=20.0 in /usr/local/lib/python3.10/dist-packages (from matplotlib) (23.1)\n",
            "Requirement already satisfied: pillow>=6.2.0 in /usr/local/lib/python3.10/dist-packages (from matplotlib) (9.4.0)\n",
            "Requirement already satisfied: pyparsing>=2.3.1 in /usr/local/lib/python3.10/dist-packages (from matplotlib) (3.1.1)\n",
            "Requirement already satisfied: python-dateutil>=2.7 in /usr/local/lib/python3.10/dist-packages (from matplotlib) (2.8.2)\n",
            "Requirement already satisfied: six>=1.5 in /usr/local/lib/python3.10/dist-packages (from python-dateutil>=2.7->matplotlib) (1.16.0)\n"
          ]
        }
      ],
      "source": [
        "!pip install nltk\n",
        "!pip install seaborn\n",
        "!pip install matplotlib\n",
        "import pandas as pd\n",
        "import nltk\n",
        "import seaborn as sea\n",
        "import matplotlib as plt\n"
      ]
    },
    {
      "cell_type": "code",
      "source": [
        "#read the data\n",
        "data = pd.read_excel('/content/1_7_23(Sheet).xlsx')\n",
        "data.head()"
      ],
      "metadata": {
        "colab": {
          "base_uri": "https://localhost:8080/",
          "height": 206
        },
        "id": "sH_HrMPx_XGF",
        "outputId": "5e7b161e-7d7f-4f86-8109-47a2ba585308"
      },
      "execution_count": 181,
      "outputs": [
        {
          "output_type": "execute_result",
          "data": {
            "text/plain": [
              "                                    address                      area  \\\n",
              "0                        H E 863 Fatihabad   Cavalry Ground Extension   \n",
              "1  Cavalry ground street 1 villa 1A NA Home  Cavalry Ground Extension   \n",
              "2         House No 152A Street No 6 Block A             Nishat Colony   \n",
              "3        House no E96d Ali lane street no 7  Cavalry Ground Extension   \n",
              "4       House no E96d Ali lane street no 7   Cavalry Ground Extension   \n",
              "\n",
              "            city     status  Result  \n",
              "0  Lahore  Cantt  delivered       0  \n",
              "1  Lahore  Cantt  delivered       0  \n",
              "2  Lahore  Cantt  delivered       0  \n",
              "3  Lahore  Cantt  delivered       0  \n",
              "4  Lahore  Cantt  delivered       0  "
            ],
            "text/html": [
              "\n",
              "\n",
              "  <div id=\"df-39be78a2-2448-4d53-9f61-047a08ba1fcb\">\n",
              "    <div class=\"colab-df-container\">\n",
              "      <div>\n",
              "<style scoped>\n",
              "    .dataframe tbody tr th:only-of-type {\n",
              "        vertical-align: middle;\n",
              "    }\n",
              "\n",
              "    .dataframe tbody tr th {\n",
              "        vertical-align: top;\n",
              "    }\n",
              "\n",
              "    .dataframe thead th {\n",
              "        text-align: right;\n",
              "    }\n",
              "</style>\n",
              "<table border=\"1\" class=\"dataframe\">\n",
              "  <thead>\n",
              "    <tr style=\"text-align: right;\">\n",
              "      <th></th>\n",
              "      <th>address</th>\n",
              "      <th>area</th>\n",
              "      <th>city</th>\n",
              "      <th>status</th>\n",
              "      <th>Result</th>\n",
              "    </tr>\n",
              "  </thead>\n",
              "  <tbody>\n",
              "    <tr>\n",
              "      <th>0</th>\n",
              "      <td>H E 863 Fatihabad</td>\n",
              "      <td>Cavalry Ground Extension</td>\n",
              "      <td>Lahore  Cantt</td>\n",
              "      <td>delivered</td>\n",
              "      <td>0</td>\n",
              "    </tr>\n",
              "    <tr>\n",
              "      <th>1</th>\n",
              "      <td>Cavalry ground street 1 villa 1A NA Home</td>\n",
              "      <td>Cavalry Ground Extension</td>\n",
              "      <td>Lahore  Cantt</td>\n",
              "      <td>delivered</td>\n",
              "      <td>0</td>\n",
              "    </tr>\n",
              "    <tr>\n",
              "      <th>2</th>\n",
              "      <td>House No 152A Street No 6 Block A</td>\n",
              "      <td>Nishat Colony</td>\n",
              "      <td>Lahore  Cantt</td>\n",
              "      <td>delivered</td>\n",
              "      <td>0</td>\n",
              "    </tr>\n",
              "    <tr>\n",
              "      <th>3</th>\n",
              "      <td>House no E96d Ali lane street no 7</td>\n",
              "      <td>Cavalry Ground Extension</td>\n",
              "      <td>Lahore  Cantt</td>\n",
              "      <td>delivered</td>\n",
              "      <td>0</td>\n",
              "    </tr>\n",
              "    <tr>\n",
              "      <th>4</th>\n",
              "      <td>House no E96d Ali lane street no 7</td>\n",
              "      <td>Cavalry Ground Extension</td>\n",
              "      <td>Lahore  Cantt</td>\n",
              "      <td>delivered</td>\n",
              "      <td>0</td>\n",
              "    </tr>\n",
              "  </tbody>\n",
              "</table>\n",
              "</div>\n",
              "      <button class=\"colab-df-convert\" onclick=\"convertToInteractive('df-39be78a2-2448-4d53-9f61-047a08ba1fcb')\"\n",
              "              title=\"Convert this dataframe to an interactive table.\"\n",
              "              style=\"display:none;\">\n",
              "\n",
              "  <svg xmlns=\"http://www.w3.org/2000/svg\" height=\"24px\"viewBox=\"0 0 24 24\"\n",
              "       width=\"24px\">\n",
              "    <path d=\"M0 0h24v24H0V0z\" fill=\"none\"/>\n",
              "    <path d=\"M18.56 5.44l.94 2.06.94-2.06 2.06-.94-2.06-.94-.94-2.06-.94 2.06-2.06.94zm-11 1L8.5 8.5l.94-2.06 2.06-.94-2.06-.94L8.5 2.5l-.94 2.06-2.06.94zm10 10l.94 2.06.94-2.06 2.06-.94-2.06-.94-.94-2.06-.94 2.06-2.06.94z\"/><path d=\"M17.41 7.96l-1.37-1.37c-.4-.4-.92-.59-1.43-.59-.52 0-1.04.2-1.43.59L10.3 9.45l-7.72 7.72c-.78.78-.78 2.05 0 2.83L4 21.41c.39.39.9.59 1.41.59.51 0 1.02-.2 1.41-.59l7.78-7.78 2.81-2.81c.8-.78.8-2.07 0-2.86zM5.41 20L4 18.59l7.72-7.72 1.47 1.35L5.41 20z\"/>\n",
              "  </svg>\n",
              "      </button>\n",
              "\n",
              "\n",
              "\n",
              "    <div id=\"df-f4a9d022-fad4-4ab5-8b38-2494b602a6d7\">\n",
              "      <button class=\"colab-df-quickchart\" onclick=\"quickchart('df-f4a9d022-fad4-4ab5-8b38-2494b602a6d7')\"\n",
              "              title=\"Suggest charts.\"\n",
              "              style=\"display:none;\">\n",
              "\n",
              "<svg xmlns=\"http://www.w3.org/2000/svg\" height=\"24px\"viewBox=\"0 0 24 24\"\n",
              "     width=\"24px\">\n",
              "    <g>\n",
              "        <path d=\"M19 3H5c-1.1 0-2 .9-2 2v14c0 1.1.9 2 2 2h14c1.1 0 2-.9 2-2V5c0-1.1-.9-2-2-2zM9 17H7v-7h2v7zm4 0h-2V7h2v10zm4 0h-2v-4h2v4z\"/>\n",
              "    </g>\n",
              "</svg>\n",
              "      </button>\n",
              "    </div>\n",
              "\n",
              "<style>\n",
              "  .colab-df-quickchart {\n",
              "    background-color: #E8F0FE;\n",
              "    border: none;\n",
              "    border-radius: 50%;\n",
              "    cursor: pointer;\n",
              "    display: none;\n",
              "    fill: #1967D2;\n",
              "    height: 32px;\n",
              "    padding: 0 0 0 0;\n",
              "    width: 32px;\n",
              "  }\n",
              "\n",
              "  .colab-df-quickchart:hover {\n",
              "    background-color: #E2EBFA;\n",
              "    box-shadow: 0px 1px 2px rgba(60, 64, 67, 0.3), 0px 1px 3px 1px rgba(60, 64, 67, 0.15);\n",
              "    fill: #174EA6;\n",
              "  }\n",
              "\n",
              "  [theme=dark] .colab-df-quickchart {\n",
              "    background-color: #3B4455;\n",
              "    fill: #D2E3FC;\n",
              "  }\n",
              "\n",
              "  [theme=dark] .colab-df-quickchart:hover {\n",
              "    background-color: #434B5C;\n",
              "    box-shadow: 0px 1px 3px 1px rgba(0, 0, 0, 0.15);\n",
              "    filter: drop-shadow(0px 1px 2px rgba(0, 0, 0, 0.3));\n",
              "    fill: #FFFFFF;\n",
              "  }\n",
              "</style>\n",
              "\n",
              "    <script>\n",
              "      async function quickchart(key) {\n",
              "        const containerElement = document.querySelector('#' + key);\n",
              "        const charts = await google.colab.kernel.invokeFunction(\n",
              "            'suggestCharts', [key], {});\n",
              "      }\n",
              "    </script>\n",
              "\n",
              "      <script>\n",
              "\n",
              "function displayQuickchartButton(domScope) {\n",
              "  let quickchartButtonEl =\n",
              "    domScope.querySelector('#df-f4a9d022-fad4-4ab5-8b38-2494b602a6d7 button.colab-df-quickchart');\n",
              "  quickchartButtonEl.style.display =\n",
              "    google.colab.kernel.accessAllowed ? 'block' : 'none';\n",
              "}\n",
              "\n",
              "        displayQuickchartButton(document);\n",
              "      </script>\n",
              "      <style>\n",
              "    .colab-df-container {\n",
              "      display:flex;\n",
              "      flex-wrap:wrap;\n",
              "      gap: 12px;\n",
              "    }\n",
              "\n",
              "    .colab-df-convert {\n",
              "      background-color: #E8F0FE;\n",
              "      border: none;\n",
              "      border-radius: 50%;\n",
              "      cursor: pointer;\n",
              "      display: none;\n",
              "      fill: #1967D2;\n",
              "      height: 32px;\n",
              "      padding: 0 0 0 0;\n",
              "      width: 32px;\n",
              "    }\n",
              "\n",
              "    .colab-df-convert:hover {\n",
              "      background-color: #E2EBFA;\n",
              "      box-shadow: 0px 1px 2px rgba(60, 64, 67, 0.3), 0px 1px 3px 1px rgba(60, 64, 67, 0.15);\n",
              "      fill: #174EA6;\n",
              "    }\n",
              "\n",
              "    [theme=dark] .colab-df-convert {\n",
              "      background-color: #3B4455;\n",
              "      fill: #D2E3FC;\n",
              "    }\n",
              "\n",
              "    [theme=dark] .colab-df-convert:hover {\n",
              "      background-color: #434B5C;\n",
              "      box-shadow: 0px 1px 3px 1px rgba(0, 0, 0, 0.15);\n",
              "      filter: drop-shadow(0px 1px 2px rgba(0, 0, 0, 0.3));\n",
              "      fill: #FFFFFF;\n",
              "    }\n",
              "  </style>\n",
              "\n",
              "      <script>\n",
              "        const buttonEl =\n",
              "          document.querySelector('#df-39be78a2-2448-4d53-9f61-047a08ba1fcb button.colab-df-convert');\n",
              "        buttonEl.style.display =\n",
              "          google.colab.kernel.accessAllowed ? 'block' : 'none';\n",
              "\n",
              "        async function convertToInteractive(key) {\n",
              "          const element = document.querySelector('#df-39be78a2-2448-4d53-9f61-047a08ba1fcb');\n",
              "          const dataTable =\n",
              "            await google.colab.kernel.invokeFunction('convertToInteractive',\n",
              "                                                     [key], {});\n",
              "          if (!dataTable) return;\n",
              "\n",
              "          const docLinkHtml = 'Like what you see? Visit the ' +\n",
              "            '<a target=\"_blank\" href=https://colab.research.google.com/notebooks/data_table.ipynb>data table notebook</a>'\n",
              "            + ' to learn more about interactive tables.';\n",
              "          element.innerHTML = '';\n",
              "          dataTable['output_type'] = 'display_data';\n",
              "          await google.colab.output.renderOutput(dataTable, element);\n",
              "          const docLink = document.createElement('div');\n",
              "          docLink.innerHTML = docLinkHtml;\n",
              "          element.appendChild(docLink);\n",
              "        }\n",
              "      </script>\n",
              "    </div>\n",
              "  </div>\n"
            ]
          },
          "metadata": {},
          "execution_count": 181
        }
      ]
    },
    {
      "cell_type": "markdown",
      "source": [
        "**Address's Column Core Stuff**\n",
        "\n",
        "Core_Strings = ['H','House', 'HOUSE', 'h', 'flat', 'Flat', 'room', 'Room', 'Block', 'block', 'shop', 'Shop', 'Plot', 'plot'\n",
        ",'Street', 'st', 'street']"
      ],
      "metadata": {
        "id": "Mmsi174oyssf"
      }
    },
    {
      "cell_type": "markdown",
      "source": [
        "**Street in Address Column**"
      ],
      "metadata": {
        "id": "hSj8fsFtLaWT"
      }
    },
    {
      "cell_type": "code",
      "source": [
        "#Firstly, drop Na and Nan Values\n",
        "df = data.dropna()\n",
        "print(\"\\nMatch if  a given column has a particular sub string:\")\n",
        "street_in_address = df[df['address'].str.contains('STREET', na=False)]\n",
        "#street_in_address  # Total Count 1038\n",
        "street_in_address[street_in_address['Result']==2]\n",
        "street_in_address['Result'].value_counts()"
      ],
      "metadata": {
        "id": "yD4WibJ-ROLO",
        "colab": {
          "base_uri": "https://localhost:8080/"
        },
        "outputId": "863c35dd-20db-4d17-a5dc-2474fd35b55c"
      },
      "execution_count": 182,
      "outputs": [
        {
          "output_type": "stream",
          "name": "stdout",
          "text": [
            "\n",
            "Match if  a given column has a particular sub string:\n"
          ]
        },
        {
          "output_type": "execute_result",
          "data": {
            "text/plain": [
              "0    40\n",
              "1     2\n",
              "Name: Result, dtype: int64"
            ]
          },
          "metadata": {},
          "execution_count": 182
        }
      ]
    },
    {
      "cell_type": "markdown",
      "source": [
        "****shop in Address Column****"
      ],
      "metadata": {
        "id": "PggBzxNTL-rm"
      }
    },
    {
      "cell_type": "code",
      "source": [
        "#Firstly, drop Na and Nan Values\n",
        "df = data.dropna()\n",
        "print(\"\\nMatch if  a given column has a particular sub string:\")\n",
        "shop_in_address = df[df['address'].str.contains('shop', na=False)]\n",
        "\n",
        "#shop_in_address[shop_in_address['Result']==0]\n",
        "shop_in_address['Result'].value_counts()"
      ],
      "metadata": {
        "colab": {
          "base_uri": "https://localhost:8080/"
        },
        "id": "qrX3tAcE4s2d",
        "outputId": "783387c2-f2e5-44ec-deda-8d3625ecb1f9"
      },
      "execution_count": 183,
      "outputs": [
        {
          "output_type": "stream",
          "name": "stdout",
          "text": [
            "\n",
            "Match if  a given column has a particular sub string:\n"
          ]
        },
        {
          "output_type": "execute_result",
          "data": {
            "text/plain": [
              "0    94\n",
              "1    30\n",
              "2     5\n",
              "Name: Result, dtype: int64"
            ]
          },
          "metadata": {},
          "execution_count": 183
        }
      ]
    },
    {
      "cell_type": "markdown",
      "source": [
        "**Flat in Address Column**"
      ],
      "metadata": {
        "id": "5MhMa1xDOcyh"
      }
    },
    {
      "cell_type": "code",
      "source": [
        "#Firstly, drop Na and Nan Values\n",
        "df = data.dropna()\n",
        "print(\"\\nMatch if  a given column has a particular sub string:\")\n",
        "flat_in_address = df[df['address'].str.contains('Flat', na=False)]\n",
        "\n",
        "#shop_in_address[shop_in_address['Result']==0]\n",
        "flat_in_address['Result'].value_counts()"
      ],
      "metadata": {
        "colab": {
          "base_uri": "https://localhost:8080/"
        },
        "id": "Axu4sbCsMaYI",
        "outputId": "5395dd2f-f840-41a7-b1e8-bd90a9e6a6e2"
      },
      "execution_count": 184,
      "outputs": [
        {
          "output_type": "stream",
          "name": "stdout",
          "text": [
            "\n",
            "Match if  a given column has a particular sub string:\n"
          ]
        },
        {
          "output_type": "execute_result",
          "data": {
            "text/plain": [
              "0    485\n",
              "1      1\n",
              "2      1\n",
              "Name: Result, dtype: int64"
            ]
          },
          "metadata": {},
          "execution_count": 184
        }
      ]
    },
    {
      "cell_type": "markdown",
      "source": [
        "**Room in Address Column**"
      ],
      "metadata": {
        "id": "hUFakQZnPzaM"
      }
    },
    {
      "cell_type": "code",
      "source": [
        "#Firstly, drop Na and Nan Values\n",
        "df = data.dropna()\n",
        "print(\"\\nMatch if  a given column has a particular sub string:\")\n",
        "room_in_address = df[df['address'].str.contains('Room', na=False)]\n",
        "\n",
        "#shop_in_address[shop_in_address['Result']==0]\n",
        "room_in_address['Result'].value_counts()"
      ],
      "metadata": {
        "colab": {
          "base_uri": "https://localhost:8080/"
        },
        "id": "YaiHsVdeOw0c",
        "outputId": "f8422a97-3051-4951-ed30-29e96637b21c"
      },
      "execution_count": 185,
      "outputs": [
        {
          "output_type": "stream",
          "name": "stdout",
          "text": [
            "\n",
            "Match if  a given column has a particular sub string:\n"
          ]
        },
        {
          "output_type": "execute_result",
          "data": {
            "text/plain": [
              "0    71\n",
              "1     3\n",
              "2     2\n",
              "Name: Result, dtype: int64"
            ]
          },
          "metadata": {},
          "execution_count": 185
        }
      ]
    },
    {
      "cell_type": "markdown",
      "source": [
        "**Block in Address Column**"
      ],
      "metadata": {
        "id": "ezuEAXGYQrXR"
      }
    },
    {
      "cell_type": "code",
      "source": [
        "#Firstly, drop Na and Nan Values\n",
        "df = data.dropna()\n",
        "print(\"\\nMatch if  a given column has a particular sub string:\")\n",
        "block_in_address = df[df['address'].str.contains('block', na=False)]\n",
        "\n",
        "#shop_in_address[shop_in_address['Result']==0]\n",
        "block_in_address['Result'].value_counts()"
      ],
      "metadata": {
        "colab": {
          "base_uri": "https://localhost:8080/"
        },
        "id": "PDoIuVjYQNb7",
        "outputId": "4b977897-f082-4f93-ef47-b142cc6f6c42"
      },
      "execution_count": 186,
      "outputs": [
        {
          "output_type": "stream",
          "name": "stdout",
          "text": [
            "\n",
            "Match if  a given column has a particular sub string:\n"
          ]
        },
        {
          "output_type": "execute_result",
          "data": {
            "text/plain": [
              "0    992\n",
              "1     39\n",
              "2     10\n",
              "Name: Result, dtype: int64"
            ]
          },
          "metadata": {},
          "execution_count": 186
        }
      ]
    },
    {
      "cell_type": "markdown",
      "source": [
        "**plot in address column**"
      ],
      "metadata": {
        "id": "bN0dH9ciRZbd"
      }
    },
    {
      "cell_type": "code",
      "source": [
        "#Firstly, drop Na and Nan Values\n",
        "df = data.dropna()\n",
        "print(\"\\nMatch if  a given column has a particular sub string:\")\n",
        "house_and_street_in_address = df[df['address'].str.contains('house street', na=False)]\n",
        "\n",
        "#shop_in_address[shop_in_address['Result']==0]\n",
        "house_and_street_in_address['Result'].value_counts()"
      ],
      "metadata": {
        "colab": {
          "base_uri": "https://localhost:8080/"
        },
        "id": "ITvWL2xbRKZV",
        "outputId": "51f8b441-5a22-43a2-c378-a71ec5c3fb29"
      },
      "execution_count": 187,
      "outputs": [
        {
          "output_type": "stream",
          "name": "stdout",
          "text": [
            "\n",
            "Match if  a given column has a particular sub string:\n"
          ]
        },
        {
          "output_type": "execute_result",
          "data": {
            "text/plain": [
              "0    1\n",
              "1    1\n",
              "Name: Result, dtype: int64"
            ]
          },
          "metadata": {},
          "execution_count": 187
        }
      ]
    },
    {
      "cell_type": "code",
      "source": [
        "#Firstly, drop Na and Nan Values\n",
        "df = data.dropna()\n",
        "print(\"\\nMatch if  a given column has a particular sub string:\")\n",
        "flat_in_address = df[df['address'].str.contains('flat', na=False)]\n",
        "\n",
        "#shop_in_address[shop_in_address['Result']==0]\n",
        "flat_in_address['Result'].value_counts()"
      ],
      "metadata": {
        "id": "e-1io8UgRu9w",
        "colab": {
          "base_uri": "https://localhost:8080/"
        },
        "outputId": "42869caa-666d-477a-b723-0a13db29565d"
      },
      "execution_count": 188,
      "outputs": [
        {
          "output_type": "stream",
          "name": "stdout",
          "text": [
            "\n",
            "Match if  a given column has a particular sub string:\n"
          ]
        },
        {
          "output_type": "execute_result",
          "data": {
            "text/plain": [
              "0    174\n",
              "1      4\n",
              "Name: Result, dtype: int64"
            ]
          },
          "metadata": {},
          "execution_count": 188
        }
      ]
    },
    {
      "cell_type": "markdown",
      "source": [
        "**Create a string, and check the frequency of each word**"
      ],
      "metadata": {
        "id": "eCKuyGBi6KEa"
      }
    },
    {
      "cell_type": "code",
      "source": [
        "#Firstly, drop Na and Nan Values\n",
        "df = data.dropna()\n",
        "\n",
        "mostly_used_words_in_address_column = ['House', 'house', 'H', 'h']\n",
        "print(\"\\nMatch if  a given column has a particular sub string:\")\n",
        "\n",
        "for i in mostly_used_words_in_address_column:\n",
        "  plot_in_address = df[df['address'].str.contains(i, na=False)]\n",
        "\n",
        "#shop_in_address[shop_in_address['Result']==0]\n",
        "plot_in_address['Result'].value_counts()"
      ],
      "metadata": {
        "colab": {
          "base_uri": "https://localhost:8080/"
        },
        "id": "QA2GM6h95qeB",
        "outputId": "da9c9584-739a-472e-cb38-b9ebbde90bde"
      },
      "execution_count": 189,
      "outputs": [
        {
          "output_type": "stream",
          "name": "stdout",
          "text": [
            "\n",
            "Match if  a given column has a particular sub string:\n"
          ]
        },
        {
          "output_type": "execute_result",
          "data": {
            "text/plain": [
              "0    5706\n",
              "1     992\n",
              "2      80\n",
              "Name: Result, dtype: int64"
            ]
          },
          "metadata": {},
          "execution_count": 189
        }
      ]
    },
    {
      "cell_type": "code",
      "source": [
        "#Firstly, drop Na and Nan Values\n",
        "df = data.dropna()\n",
        "\n",
        "mostly_used_words_in_address_column = ['Steet', 'street', 'st']\n",
        "print(\"\\nMatch if  a given column has a particular sub string:\")\n",
        "\n",
        "for i in mostly_used_words_in_address_column:\n",
        "  plot_in_address = df[df['address'].str.contains(i, na=False)]\n",
        "\n",
        "#shop_in_address[shop_in_address['Result']==0]\n",
        "plot_in_address['Result'].value_counts()"
      ],
      "metadata": {
        "colab": {
          "base_uri": "https://localhost:8080/"
        },
        "id": "vzNga4JXS73r",
        "outputId": "d5bd8efd-bc0f-4963-d0de-6eef8a5fe1bc"
      },
      "execution_count": 190,
      "outputs": [
        {
          "output_type": "stream",
          "name": "stdout",
          "text": [
            "\n",
            "Match if  a given column has a particular sub string:\n"
          ]
        },
        {
          "output_type": "execute_result",
          "data": {
            "text/plain": [
              "0    2176\n",
              "1     334\n",
              "2      33\n",
              "Name: Result, dtype: int64"
            ]
          },
          "metadata": {},
          "execution_count": 190
        }
      ]
    },
    {
      "cell_type": "code",
      "source": [
        "#read the data\n",
        "df = pd.read_excel('/content/Address_Validation_API_Overall.xlsx')\n",
        "df['Address'].head()\n",
        "dataset = df['Address']"
      ],
      "metadata": {
        "id": "-ByGf0WLLIqx"
      },
      "execution_count": 191,
      "outputs": []
    },
    {
      "cell_type": "code",
      "source": [
        "df.info()"
      ],
      "metadata": {
        "colab": {
          "base_uri": "https://localhost:8080/"
        },
        "id": "CHoPmTLmiRTG",
        "outputId": "962d5f35-692b-4d60-8628-23d40d1b2ae8"
      },
      "execution_count": 192,
      "outputs": [
        {
          "output_type": "stream",
          "name": "stdout",
          "text": [
            "<class 'pandas.core.frame.DataFrame'>\n",
            "RangeIndex: 10000 entries, 0 to 9999\n",
            "Data columns (total 6 columns):\n",
            " #   Column              Non-Null Count  Dtype \n",
            "---  ------              --------------  ----- \n",
            " 0   Address             9998 non-null   object\n",
            " 1   Area                10000 non-null  object\n",
            " 2   City                10000 non-null  object\n",
            " 3   Status              10000 non-null  object\n",
            " 4   Result              10000 non-null  int64 \n",
            " 5   Address_validation  10000 non-null  object\n",
            "dtypes: int64(1), object(5)\n",
            "memory usage: 468.9+ KB\n"
          ]
        }
      ]
    },
    {
      "cell_type": "markdown",
      "source": [
        "**In Feature Engineering**\n",
        "Create a new Column named 'Street', Having Labels 0 and 1"
      ],
      "metadata": {
        "id": "w4OS-unOVKQq"
      }
    },
    {
      "cell_type": "code",
      "source": [
        "Street_Strings = ['Steet', 'street', 'st']\n",
        "\n",
        "# Initialize a new column with all zeros\n",
        "df['Street'] = 0\n",
        "\n",
        "# Loop through each core string\n",
        "for house in Street_Strings:\n",
        "  # Update rows that contain the core string to have a value of 1\n",
        "  df.loc[df.Address.str.contains(house, case=False, na=False), 'Street'] = 1\n",
        "\n",
        "# Print the updated DataFrame\n",
        "df.value_counts()\n",
        "\n",
        "#df.to_excel('/content/core_string_containing.xlsx', index= False)"
      ],
      "metadata": {
        "colab": {
          "base_uri": "https://localhost:8080/"
        },
        "id": "L-eZAmu2Uwac",
        "outputId": "4414d26c-13c5-4aad-b95f-59169f42768b"
      },
      "execution_count": 193,
      "outputs": [
        {
          "output_type": "execute_result",
          "data": {
            "text/plain": [
              "Address                                                                                          Area          City                     Status     Result  Address_validation  Street\n",
              "Giga Mall Ground floor                                                                           Phase 2       Rawalpindi  DHA          delivered  1       No                  0         16\n",
              "QIST BAZAAR F1521BL0CK 7CLIFTONKARACHI                                                           Block 7       Karachi  Clifton         delivered  0       Yes                 1         13\n",
              "office no 301 rizwan arcade adam gee road                                                        Cantt         Rawalpindi  Other        delivered  0       Yes                 0          9\n",
              "Flat No 103 Rabi Arcade Bahadurabad Alamgir Road Karachi                                         Bahadurabad   Karachi  GulshaneIqbal   delivered  0       Yes                 0          6\n",
              "New  street 3                                                                                    Dhoke Gujran  Rawalpindi  Misriyal     delivered  1       No                  1          6\n",
              "                                                                                                                                                                                         ..\n",
              "Flat A207 Sohni Executive Apartments near Fatima Golf Residency Gulistan e jauhar Karachi Sindh  Block 8       Karachi  GulistaneJohar  delivered  0       Yes                 1          1\n",
              "Flat A111 saima classic block 10A gulshan e iqbal near    millium mall Millium mall              Block 10      Karachi  GulshaneIqbal   delivered  0       No                  0          1\n",
              "Flat A105 block 9 chapal luxury apartments chapal suncity near Kiran hospital                    Scheme 33     Karachi  GulzareHijri    delivered  0       Yes                 0          1\n",
              "Flat A10 Erum Centre block 16 Gulshan e Iqbal near bait ul mukarram masjid                       Block 16      Karachi  GulshaneIqbal   delivered  0       Yes                 0          1\n",
              "zafar chok Naval complex  e8 islmabad                                                            E  8          Islamabad  E             delivered  1       No                  0          1\n",
              "Length: 9334, dtype: int64"
            ]
          },
          "metadata": {},
          "execution_count": 193
        }
      ]
    },
    {
      "cell_type": "markdown",
      "source": [
        "**In Feature Engineering**\n",
        "Create a new Column named 'House', Having Labels 0 and 1"
      ],
      "metadata": {
        "id": "DG192VgMoZb-"
      }
    },
    {
      "cell_type": "code",
      "source": [
        "House_Strings = ['H','House', 'HOUSE', 'h']\n",
        "\n",
        "# Initialize a new column with all zeros\n",
        "df['House'] = 0\n",
        "\n",
        "# Loop through each core string\n",
        "for house in House_Strings:\n",
        "  # Update rows that contain the core string to have a value of 1\n",
        "  df.loc[df.Address.str.contains(house, case=False, na=False), 'House'] = 1\n",
        "\n",
        "# Print the updated DataFrame\n",
        "df.value_counts()\n",
        "\n",
        "#df.to_excel('/content/core_string_containing.xlsx', index= False)"
      ],
      "metadata": {
        "colab": {
          "base_uri": "https://localhost:8080/"
        },
        "id": "3uWtyeM8oaiM",
        "outputId": "a60a7823-6cae-4045-c237-a552050405e9"
      },
      "execution_count": 194,
      "outputs": [
        {
          "output_type": "execute_result",
          "data": {
            "text/plain": [
              "Address                                                                                          Area          City                     Status     Result  Address_validation  Street  House\n",
              "Giga Mall Ground floor                                                                           Phase 2       Rawalpindi  DHA          delivered  1       No                  0       0        16\n",
              "QIST BAZAAR F1521BL0CK 7CLIFTONKARACHI                                                           Block 7       Karachi  Clifton         delivered  0       Yes                 1       1        13\n",
              "office no 301 rizwan arcade adam gee road                                                        Cantt         Rawalpindi  Other        delivered  0       Yes                 0       0         9\n",
              "Flat No 103 Rabi Arcade Bahadurabad Alamgir Road Karachi                                         Bahadurabad   Karachi  GulshaneIqbal   delivered  0       Yes                 0       1         6\n",
              "New  street 3                                                                                    Dhoke Gujran  Rawalpindi  Misriyal     delivered  1       No                  1       0         6\n",
              "                                                                                                                                                                                                ..\n",
              "Flat A207 Sohni Executive Apartments near Fatima Golf Residency Gulistan e jauhar Karachi Sindh  Block 8       Karachi  GulistaneJohar  delivered  0       Yes                 1       1         1\n",
              "Flat A111 saima classic block 10A gulshan e iqbal near    millium mall Millium mall              Block 10      Karachi  GulshaneIqbal   delivered  0       No                  0       1         1\n",
              "Flat A105 block 9 chapal luxury apartments chapal suncity near Kiran hospital                    Scheme 33     Karachi  GulzareHijri    delivered  0       Yes                 0       1         1\n",
              "Flat A10 Erum Centre block 16 Gulshan e Iqbal near bait ul mukarram masjid                       Block 16      Karachi  GulshaneIqbal   delivered  0       Yes                 0       1         1\n",
              "zafar chok Naval complex  e8 islmabad                                                            E  8          Islamabad  E             delivered  1       No                  0       1         1\n",
              "Length: 9334, dtype: int64"
            ]
          },
          "metadata": {},
          "execution_count": 194
        }
      ]
    },
    {
      "cell_type": "code",
      "source": [
        "Core_Strings = ['flat', 'Flat', 'room', 'Room', 'Block', 'block', 'shop', 'Shop', 'Plot', 'plot']\n",
        "\n",
        "# Initialize a new column with all zeros\n",
        "df['Address_Encode'] = 0\n",
        "\n",
        "# Loop through each core string\n",
        "for core in Core_Strings:\n",
        "  # Update rows that contain the core string to have a value of 1\n",
        "  df.loc[df.Address.str.contains(core, case=False, na=False), 'Address_Encode'] = 1\n",
        "\n",
        "# Print the updated DataFrame\n",
        "df.value_counts()\n",
        "\n",
        "#df.to_excel('/content/Feature_Engineering.xlsx', index= False)\n"
      ],
      "metadata": {
        "colab": {
          "base_uri": "https://localhost:8080/"
        },
        "id": "j5aBRkpilpAE",
        "outputId": "3fe0e385-b585-4f50-cc04-a4466121e731"
      },
      "execution_count": 195,
      "outputs": [
        {
          "output_type": "execute_result",
          "data": {
            "text/plain": [
              "Address                                                                                          Area          City                     Status     Result  Address_validation  Street  House  Address_Encode\n",
              "Giga Mall Ground floor                                                                           Phase 2       Rawalpindi  DHA          delivered  1       No                  0       0      0                 16\n",
              "QIST BAZAAR F1521BL0CK 7CLIFTONKARACHI                                                           Block 7       Karachi  Clifton         delivered  0       Yes                 1       1      0                 13\n",
              "office no 301 rizwan arcade adam gee road                                                        Cantt         Rawalpindi  Other        delivered  0       Yes                 0       0      0                  9\n",
              "Flat No 103 Rabi Arcade Bahadurabad Alamgir Road Karachi                                         Bahadurabad   Karachi  GulshaneIqbal   delivered  0       Yes                 0       1      1                  6\n",
              "New  street 3                                                                                    Dhoke Gujran  Rawalpindi  Misriyal     delivered  1       No                  1       0      0                  6\n",
              "                                                                                                                                                                                                                ..\n",
              "Flat A207 Sohni Executive Apartments near Fatima Golf Residency Gulistan e jauhar Karachi Sindh  Block 8       Karachi  GulistaneJohar  delivered  0       Yes                 1       1      1                  1\n",
              "Flat A111 saima classic block 10A gulshan e iqbal near    millium mall Millium mall              Block 10      Karachi  GulshaneIqbal   delivered  0       No                  0       1      1                  1\n",
              "Flat A105 block 9 chapal luxury apartments chapal suncity near Kiran hospital                    Scheme 33     Karachi  GulzareHijri    delivered  0       Yes                 0       1      1                  1\n",
              "Flat A10 Erum Centre block 16 Gulshan e Iqbal near bait ul mukarram masjid                       Block 16      Karachi  GulshaneIqbal   delivered  0       Yes                 0       1      1                  1\n",
              "zafar chok Naval complex  e8 islmabad                                                            E  8          Islamabad  E             delivered  1       No                  0       1      0                  1\n",
              "Length: 9334, dtype: int64"
            ]
          },
          "metadata": {},
          "execution_count": 195
        }
      ]
    },
    {
      "cell_type": "markdown",
      "source": [
        "**Visualizations Stuff**"
      ],
      "metadata": {
        "id": "LG8xRrILAqUv"
      }
    },
    {
      "cell_type": "code",
      "source": [
        "#!pip install plotly\n",
        "#!pip install folium\n",
        "import seaborn as sea\n",
        "import matplotlib as plt\n",
        "import plotly as plot\n",
        "import folium as fm"
      ],
      "metadata": {
        "id": "qPFVU7g9cjoK"
      },
      "execution_count": 196,
      "outputs": []
    },
    {
      "cell_type": "code",
      "source": [
        "import seaborn as sns\n",
        "import matplotlib.pyplot as plt\n",
        "\n",
        "# Sample data (you can replace this with your own data)\n",
        "#tips = sns.load_dataset(\"tips\")\n",
        "\n",
        "# Create a box plot to visualize percentiles\n",
        "sns.boxplot(data=df, x=\"House\", y=\"Result\")\n",
        "plt.title(\"Percentile Representation Plot\")\n",
        "plt.xlabel(\"Text Analysis\")\n",
        "plt.ylabel(\"Results\")\n",
        "plt.show()\n"
      ],
      "metadata": {
        "colab": {
          "base_uri": "https://localhost:8080/",
          "height": 472
        },
        "id": "SPHKRQ4_DhS8",
        "outputId": "6093ebb2-6f5e-467c-9f45-fbc8faad4f89"
      },
      "execution_count": 197,
      "outputs": [
        {
          "output_type": "display_data",
          "data": {
            "text/plain": [
              "<Figure size 640x480 with 1 Axes>"
            ],
            "image/png": "[encoded data removed]"
          },
          "metadata": {}
        }
      ]
    },
    {
      "cell_type": "markdown",
      "source": [
        "**Feature Engineering (Resampling)**\n",
        "There are several Resampling Techniques such as:\n",
        "1. Random Oversampling\n",
        "2. SMOTE (Synthetic Minority Over-sampling Technique)\n",
        "3. ADASYN (Adaptive Synthetic Sampling)\n",
        "\n",
        "I preferred SMOTE Resampling because SMOTE addresses the overfitting concern by creating synthetic samples that are combinations of existing instances. It can help capture the underlying distribution of the minority class more accurately."
      ],
      "metadata": {
        "id": "cLeKvBso1UPq"
      }
    },
    {
      "cell_type": "code",
      "source": [
        "from imblearn.over_sampling import SMOTE\n",
        "from sklearn.model_selection import train_test_split\n",
        "dataset =pd.read_excel('/content/Feature_Engineering.xlsx')\n",
        "print(dataset.head())\n",
        "\n",
        "# Assuming your data is loaded into X and y, where X contains your features and y contains your class labels\n",
        "X =  dataset[['Address_Encode', 'House', 'Street', 'API']]\n",
        "y = dataset['Result']\n",
        "\n",
        "y = dataset['Result']\n",
        "# Split the dataset into training and testing sets\n",
        "X_train, X_test, y_train, y_test = train_test_split(X, y, test_size=0.2, random_state=42)\n",
        "\n",
        "# Apply SMOTE to the training data\n",
        "smote = SMOTE(random_state=42)\n",
        "X_train_resampled, y_train_resampled = smote.fit_resample(X_train, y_train)\n",
        "\n",
        "# Now you can use X_train_resampled and y_train_resampled for training your model\n"
      ],
      "metadata": {
        "colab": {
          "base_uri": "https://localhost:8080/"
        },
        "id": "6-6BR1x11Xlz",
        "outputId": "a05b4efa-e800-4881-e27b-b10895d8a196"
      },
      "execution_count": 209,
      "outputs": [
        {
          "output_type": "stream",
          "name": "stdout",
          "text": [
            "                                    Address                      Area  \\\n",
            "0                        H E 863 Fatihabad   Cavalry Ground Extension   \n",
            "1  Cavalry ground street 1 villa 1A NA Home  Cavalry Ground Extension   \n",
            "2         House No 152A Street No 6 Block A             Nishat Colony   \n",
            "3        House no E96d Ali lane street no 7  Cavalry Ground Extension   \n",
            "4       House no E96d Ali lane street no 7   Cavalry Ground Extension   \n",
            "\n",
            "            City     Status  Address_Encode  House  Street  API  Result  \n",
            "0  Lahore  Cantt  delivered               0      1       0    1       0  \n",
            "1  Lahore  Cantt  delivered               0      1       1    1       0  \n",
            "2  Lahore  Cantt  delivered               1      1       1    1       0  \n",
            "3  Lahore  Cantt  delivered               0      1       1    1       0  \n",
            "4  Lahore  Cantt  delivered               0      1       1    1       0  \n"
          ]
        }
      ]
    },
    {
      "cell_type": "markdown",
      "source": [
        "**Export The Resampled Dataset**"
      ],
      "metadata": {
        "id": "6DYEMR0VHB19"
      }
    },
    {
      "cell_type": "code",
      "source": [
        "import pandas as pd\n",
        "\n",
        "# Assuming X_train_resampled and y_train_resampled are your resampled training data\n",
        "resampled_data = pd.DataFrame(X_train_resampled, columns=['Address_Encode', 'House', 'Street', 'API'])\n",
        "resampled_data['Result'] = y_train_resampled\n",
        "\n",
        "# Export the resampled dataset to a CSV file\n",
        "resampled_data.to_excel('resampled_dataset.xlsx', index=False)\n"
      ],
      "metadata": {
        "id": "wZPLsPkE-2EI"
      },
      "execution_count": 210,
      "outputs": []
    },
    {
      "cell_type": "code",
      "source": [],
      "metadata": {
        "id": "NEbX8Jy7DMWN"
      },
      "execution_count": null,
      "outputs": []
    }
  ]
}